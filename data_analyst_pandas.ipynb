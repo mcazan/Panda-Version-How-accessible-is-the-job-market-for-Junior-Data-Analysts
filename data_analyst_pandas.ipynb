{
 "cells": [
  {
   "cell_type": "markdown",
   "id": "3a1c189d",
   "metadata": {},
   "source": [
    "### Import libraries"
   ]
  },
  {
   "cell_type": "code",
   "execution_count": 1,
   "id": "26b0a59a",
   "metadata": {},
   "outputs": [],
   "source": [
    "import pandas as pd\n",
    "import numpy as np\n",
    "import matplotlib.pyplot as plt"
   ]
  },
  {
   "cell_type": "markdown",
   "id": "2054bc3d",
   "metadata": {},
   "source": [
    "### Read data from csv file"
   ]
  },
  {
   "cell_type": "code",
   "execution_count": 2,
   "id": "d6956472",
   "metadata": {},
   "outputs": [],
   "source": [
    "df=pd.read_csv('C://Users/Admin/Workspace/Data/DataAnalyst.csv')"
   ]
  },
  {
   "cell_type": "markdown",
   "id": "b9d7cae9",
   "metadata": {},
   "source": [
    "##### Have a quick look at the data"
   ]
  },
  {
   "cell_type": "code",
   "execution_count": 3,
   "id": "00a40773",
   "metadata": {},
   "outputs": [
    {
     "data": {
      "text/html": [
       "<div>\n",
       "<style scoped>\n",
       "    .dataframe tbody tr th:only-of-type {\n",
       "        vertical-align: middle;\n",
       "    }\n",
       "\n",
       "    .dataframe tbody tr th {\n",
       "        vertical-align: top;\n",
       "    }\n",
       "\n",
       "    .dataframe thead th {\n",
       "        text-align: right;\n",
       "    }\n",
       "</style>\n",
       "<table border=\"1\" class=\"dataframe\">\n",
       "  <thead>\n",
       "    <tr style=\"text-align: right;\">\n",
       "      <th></th>\n",
       "      <th></th>\n",
       "      <th>Job Title</th>\n",
       "      <th>Salary Estimate</th>\n",
       "      <th>Job Description</th>\n",
       "      <th>Rating</th>\n",
       "      <th>Company Name</th>\n",
       "      <th>Location</th>\n",
       "      <th>Headquarters</th>\n",
       "      <th>Size</th>\n",
       "      <th>Founded</th>\n",
       "      <th>Type of ownership</th>\n",
       "      <th>Industry</th>\n",
       "      <th>Sector</th>\n",
       "      <th>Revenue</th>\n",
       "      <th>Competitors</th>\n",
       "      <th>Easy Apply</th>\n",
       "    </tr>\n",
       "  </thead>\n",
       "  <tbody>\n",
       "    <tr>\n",
       "      <th>0</th>\n",
       "      <td>0</td>\n",
       "      <td>Data Analyst, Center on Immigration and Justic...</td>\n",
       "      <td>$37K-$66K (Glassdoor est.)</td>\n",
       "      <td>Are you eager to roll up your sleeves and harn...</td>\n",
       "      <td>3.2</td>\n",
       "      <td>Vera Institute of Justice\\n3.2</td>\n",
       "      <td>New York, NY</td>\n",
       "      <td>New York, NY</td>\n",
       "      <td>201 to 500 employees</td>\n",
       "      <td>1961</td>\n",
       "      <td>Nonprofit Organization</td>\n",
       "      <td>Social Assistance</td>\n",
       "      <td>Non-Profit</td>\n",
       "      <td>$100 to $500 million (USD)</td>\n",
       "      <td>-1</td>\n",
       "      <td>True</td>\n",
       "    </tr>\n",
       "    <tr>\n",
       "      <th>1</th>\n",
       "      <td>1</td>\n",
       "      <td>Quality Data Analyst</td>\n",
       "      <td>$37K-$66K (Glassdoor est.)</td>\n",
       "      <td>Overview\\n\\nProvides analytical and technical ...</td>\n",
       "      <td>3.8</td>\n",
       "      <td>Visiting Nurse Service of New York\\n3.8</td>\n",
       "      <td>New York, NY</td>\n",
       "      <td>New York, NY</td>\n",
       "      <td>10000+ employees</td>\n",
       "      <td>1893</td>\n",
       "      <td>Nonprofit Organization</td>\n",
       "      <td>Health Care Services &amp; Hospitals</td>\n",
       "      <td>Health Care</td>\n",
       "      <td>$2 to $5 billion (USD)</td>\n",
       "      <td>-1</td>\n",
       "      <td>-1</td>\n",
       "    </tr>\n",
       "    <tr>\n",
       "      <th>2</th>\n",
       "      <td>2</td>\n",
       "      <td>Senior Data Analyst, Insights &amp; Analytics Team...</td>\n",
       "      <td>$37K-$66K (Glassdoor est.)</td>\n",
       "      <td>We’re looking for a Senior Data Analyst who ha...</td>\n",
       "      <td>3.4</td>\n",
       "      <td>Squarespace\\n3.4</td>\n",
       "      <td>New York, NY</td>\n",
       "      <td>New York, NY</td>\n",
       "      <td>1001 to 5000 employees</td>\n",
       "      <td>2003</td>\n",
       "      <td>Company - Private</td>\n",
       "      <td>Internet</td>\n",
       "      <td>Information Technology</td>\n",
       "      <td>Unknown / Non-Applicable</td>\n",
       "      <td>GoDaddy</td>\n",
       "      <td>-1</td>\n",
       "    </tr>\n",
       "  </tbody>\n",
       "</table>\n",
       "</div>"
      ],
      "text/plain": [
       "                                              Job Title  \\\n",
       "0  0  Data Analyst, Center on Immigration and Justic...   \n",
       "1  1                               Quality Data Analyst   \n",
       "2  2  Senior Data Analyst, Insights & Analytics Team...   \n",
       "\n",
       "              Salary Estimate  \\\n",
       "0  $37K-$66K (Glassdoor est.)   \n",
       "1  $37K-$66K (Glassdoor est.)   \n",
       "2  $37K-$66K (Glassdoor est.)   \n",
       "\n",
       "                                     Job Description  Rating  \\\n",
       "0  Are you eager to roll up your sleeves and harn...     3.2   \n",
       "1  Overview\\n\\nProvides analytical and technical ...     3.8   \n",
       "2  We’re looking for a Senior Data Analyst who ha...     3.4   \n",
       "\n",
       "                              Company Name      Location  Headquarters  \\\n",
       "0           Vera Institute of Justice\\n3.2  New York, NY  New York, NY   \n",
       "1  Visiting Nurse Service of New York\\n3.8  New York, NY  New York, NY   \n",
       "2                         Squarespace\\n3.4  New York, NY  New York, NY   \n",
       "\n",
       "                     Size  Founded       Type of ownership  \\\n",
       "0    201 to 500 employees     1961  Nonprofit Organization   \n",
       "1        10000+ employees     1893  Nonprofit Organization   \n",
       "2  1001 to 5000 employees     2003       Company - Private   \n",
       "\n",
       "                           Industry                  Sector  \\\n",
       "0                 Social Assistance              Non-Profit   \n",
       "1  Health Care Services & Hospitals             Health Care   \n",
       "2                          Internet  Information Technology   \n",
       "\n",
       "                      Revenue Competitors Easy Apply  \n",
       "0  $100 to $500 million (USD)          -1       True  \n",
       "1      $2 to $5 billion (USD)          -1         -1  \n",
       "2    Unknown / Non-Applicable     GoDaddy         -1  "
      ]
     },
     "execution_count": 3,
     "metadata": {},
     "output_type": "execute_result"
    }
   ],
   "source": [
    "df.head(3)"
   ]
  },
  {
   "cell_type": "code",
   "execution_count": 4,
   "id": "0eae0260",
   "metadata": {},
   "outputs": [
    {
     "name": "stdout",
     "output_type": "stream",
     "text": [
      "<class 'pandas.core.frame.DataFrame'>\n",
      "RangeIndex: 2253 entries, 0 to 2252\n",
      "Data columns (total 16 columns):\n",
      " #   Column             Non-Null Count  Dtype  \n",
      "---  ------             --------------  -----  \n",
      " 0                      2253 non-null   int64  \n",
      " 1   Job Title          2253 non-null   object \n",
      " 2   Salary Estimate    2253 non-null   object \n",
      " 3   Job Description    2253 non-null   object \n",
      " 4   Rating             2253 non-null   float64\n",
      " 5   Company Name       2252 non-null   object \n",
      " 6   Location           2253 non-null   object \n",
      " 7   Headquarters       2253 non-null   object \n",
      " 8   Size               2253 non-null   object \n",
      " 9   Founded            2253 non-null   int64  \n",
      " 10  Type of ownership  2253 non-null   object \n",
      " 11  Industry           2253 non-null   object \n",
      " 12  Sector             2253 non-null   object \n",
      " 13  Revenue            2253 non-null   object \n",
      " 14  Competitors        2253 non-null   object \n",
      " 15  Easy Apply         2253 non-null   object \n",
      "dtypes: float64(1), int64(2), object(13)\n",
      "memory usage: 281.8+ KB\n"
     ]
    }
   ],
   "source": [
    "df.info()"
   ]
  },
  {
   "cell_type": "code",
   "execution_count": 5,
   "id": "8713a202",
   "metadata": {},
   "outputs": [
    {
     "data": {
      "text/html": [
       "<div>\n",
       "<style scoped>\n",
       "    .dataframe tbody tr th:only-of-type {\n",
       "        vertical-align: middle;\n",
       "    }\n",
       "\n",
       "    .dataframe tbody tr th {\n",
       "        vertical-align: top;\n",
       "    }\n",
       "\n",
       "    .dataframe thead th {\n",
       "        text-align: right;\n",
       "    }\n",
       "</style>\n",
       "<table border=\"1\" class=\"dataframe\">\n",
       "  <thead>\n",
       "    <tr style=\"text-align: right;\">\n",
       "      <th></th>\n",
       "      <th></th>\n",
       "      <th>Rating</th>\n",
       "      <th>Founded</th>\n",
       "    </tr>\n",
       "  </thead>\n",
       "  <tbody>\n",
       "    <tr>\n",
       "      <th>count</th>\n",
       "      <td>2253.0000</td>\n",
       "      <td>2253.000000</td>\n",
       "      <td>2253.000000</td>\n",
       "    </tr>\n",
       "    <tr>\n",
       "      <th>mean</th>\n",
       "      <td>1126.0000</td>\n",
       "      <td>3.160630</td>\n",
       "      <td>1398.522858</td>\n",
       "    </tr>\n",
       "    <tr>\n",
       "      <th>std</th>\n",
       "      <td>650.5294</td>\n",
       "      <td>1.665228</td>\n",
       "      <td>901.929251</td>\n",
       "    </tr>\n",
       "    <tr>\n",
       "      <th>min</th>\n",
       "      <td>0.0000</td>\n",
       "      <td>-1.000000</td>\n",
       "      <td>-1.000000</td>\n",
       "    </tr>\n",
       "    <tr>\n",
       "      <th>25%</th>\n",
       "      <td>563.0000</td>\n",
       "      <td>3.100000</td>\n",
       "      <td>-1.000000</td>\n",
       "    </tr>\n",
       "    <tr>\n",
       "      <th>50%</th>\n",
       "      <td>1126.0000</td>\n",
       "      <td>3.600000</td>\n",
       "      <td>1979.000000</td>\n",
       "    </tr>\n",
       "    <tr>\n",
       "      <th>75%</th>\n",
       "      <td>1689.0000</td>\n",
       "      <td>4.000000</td>\n",
       "      <td>2002.000000</td>\n",
       "    </tr>\n",
       "    <tr>\n",
       "      <th>max</th>\n",
       "      <td>2252.0000</td>\n",
       "      <td>5.000000</td>\n",
       "      <td>2019.000000</td>\n",
       "    </tr>\n",
       "  </tbody>\n",
       "</table>\n",
       "</div>"
      ],
      "text/plain": [
       "                       Rating      Founded\n",
       "count  2253.0000  2253.000000  2253.000000\n",
       "mean   1126.0000     3.160630  1398.522858\n",
       "std     650.5294     1.665228   901.929251\n",
       "min       0.0000    -1.000000    -1.000000\n",
       "25%     563.0000     3.100000    -1.000000\n",
       "50%    1126.0000     3.600000  1979.000000\n",
       "75%    1689.0000     4.000000  2002.000000\n",
       "max    2252.0000     5.000000  2019.000000"
      ]
     },
     "execution_count": 5,
     "metadata": {},
     "output_type": "execute_result"
    }
   ],
   "source": [
    "df.describe()"
   ]
  },
  {
   "cell_type": "markdown",
   "id": "03f26da9",
   "metadata": {},
   "source": [
    "##### Drop duplicates"
   ]
  },
  {
   "cell_type": "code",
   "execution_count": 6,
   "id": "78045a51",
   "metadata": {},
   "outputs": [
    {
     "data": {
      "text/plain": [
       "(2253, 16)"
      ]
     },
     "execution_count": 6,
     "metadata": {},
     "output_type": "execute_result"
    }
   ],
   "source": [
    "df.shape"
   ]
  },
  {
   "cell_type": "code",
   "execution_count": 7,
   "id": "f49b8867",
   "metadata": {},
   "outputs": [],
   "source": [
    "df.drop_duplicates(inplace=True)"
   ]
  },
  {
   "cell_type": "code",
   "execution_count": 8,
   "id": "e69414d8",
   "metadata": {},
   "outputs": [
    {
     "data": {
      "text/plain": [
       "(2253, 16)"
      ]
     },
     "execution_count": 8,
     "metadata": {},
     "output_type": "execute_result"
    }
   ],
   "source": [
    "df.shape"
   ]
  },
  {
   "cell_type": "markdown",
   "id": "972dac83",
   "metadata": {},
   "source": [
    "#### Drop unnamed column"
   ]
  },
  {
   "cell_type": "code",
   "execution_count": 9,
   "id": "6fa645d1",
   "metadata": {},
   "outputs": [],
   "source": [
    "df.drop(df.columns[0], axis=1, inplace=True)"
   ]
  },
  {
   "cell_type": "code",
   "execution_count": 10,
   "id": "c201d309",
   "metadata": {},
   "outputs": [
    {
     "data": {
      "text/plain": [
       "Index(['Job Title', 'Salary Estimate', 'Job Description', 'Rating',\n",
       "       'Company Name', 'Location', 'Headquarters', 'Size', 'Founded',\n",
       "       'Type of ownership', 'Industry', 'Sector', 'Revenue', 'Competitors',\n",
       "       'Easy Apply'],\n",
       "      dtype='object')"
      ]
     },
     "execution_count": 10,
     "metadata": {},
     "output_type": "execute_result"
    }
   ],
   "source": [
    "df.columns"
   ]
  },
  {
   "cell_type": "markdown",
   "id": "a5374128",
   "metadata": {},
   "source": [
    "#### Check for null values"
   ]
  },
  {
   "cell_type": "code",
   "execution_count": 11,
   "id": "01acfa93",
   "metadata": {
    "scrolled": true
   },
   "outputs": [
    {
     "data": {
      "text/plain": [
       "Job Title            0\n",
       "Salary Estimate      0\n",
       "Job Description      0\n",
       "Rating               0\n",
       "Company Name         1\n",
       "Location             0\n",
       "Headquarters         0\n",
       "Size                 0\n",
       "Founded              0\n",
       "Type of ownership    0\n",
       "Industry             0\n",
       "Sector               0\n",
       "Revenue              0\n",
       "Competitors          0\n",
       "Easy Apply           0\n",
       "dtype: int64"
      ]
     },
     "execution_count": 11,
     "metadata": {},
     "output_type": "execute_result"
    }
   ],
   "source": [
    "df.isnull().sum()"
   ]
  },
  {
   "cell_type": "code",
   "execution_count": 12,
   "id": "93ba16ad",
   "metadata": {
    "scrolled": true
   },
   "outputs": [
    {
     "data": {
      "text/html": [
       "<div>\n",
       "<style scoped>\n",
       "    .dataframe tbody tr th:only-of-type {\n",
       "        vertical-align: middle;\n",
       "    }\n",
       "\n",
       "    .dataframe tbody tr th {\n",
       "        vertical-align: top;\n",
       "    }\n",
       "\n",
       "    .dataframe thead th {\n",
       "        text-align: right;\n",
       "    }\n",
       "</style>\n",
       "<table border=\"1\" class=\"dataframe\">\n",
       "  <thead>\n",
       "    <tr style=\"text-align: right;\">\n",
       "      <th></th>\n",
       "      <th>Job Title</th>\n",
       "      <th>Salary Estimate</th>\n",
       "      <th>Job Description</th>\n",
       "      <th>Rating</th>\n",
       "      <th>Company Name</th>\n",
       "      <th>Location</th>\n",
       "      <th>Headquarters</th>\n",
       "      <th>Size</th>\n",
       "      <th>Founded</th>\n",
       "      <th>Type of ownership</th>\n",
       "      <th>Industry</th>\n",
       "      <th>Sector</th>\n",
       "      <th>Revenue</th>\n",
       "      <th>Competitors</th>\n",
       "      <th>Easy Apply</th>\n",
       "    </tr>\n",
       "  </thead>\n",
       "  <tbody>\n",
       "    <tr>\n",
       "      <th>1352</th>\n",
       "      <td>Data Analyst</td>\n",
       "      <td>$30K-$53K (Glassdoor est.)</td>\n",
       "      <td>Job Description\\nETL, SQL Queries, Data Modeli...</td>\n",
       "      <td>-1.0</td>\n",
       "      <td>1</td>\n",
       "      <td>Dallas, TX</td>\n",
       "      <td>-1</td>\n",
       "      <td>-1</td>\n",
       "      <td>-1</td>\n",
       "      <td>-1</td>\n",
       "      <td>-1</td>\n",
       "      <td>-1</td>\n",
       "      <td>-1</td>\n",
       "      <td>-1</td>\n",
       "      <td>-1</td>\n",
       "    </tr>\n",
       "    <tr>\n",
       "      <th>119</th>\n",
       "      <td>PBM Data Analyst</td>\n",
       "      <td>$51K-$87K (Glassdoor est.)</td>\n",
       "      <td>Responsibilities:\\nProduce analyses and create...</td>\n",
       "      <td>3.2</td>\n",
       "      <td>1199SEIU Funds\\n3.2</td>\n",
       "      <td>New York, NY</td>\n",
       "      <td>New York, NY</td>\n",
       "      <td>1001 to 5000 employees</td>\n",
       "      <td>-1</td>\n",
       "      <td>Nonprofit Organization</td>\n",
       "      <td>Insurance Carriers</td>\n",
       "      <td>Insurance</td>\n",
       "      <td>$100 to $500 million (USD)</td>\n",
       "      <td>-1</td>\n",
       "      <td>-1</td>\n",
       "    </tr>\n",
       "    <tr>\n",
       "      <th>324</th>\n",
       "      <td>Senior Data Analyst</td>\n",
       "      <td>$42K-$74K (Glassdoor est.)</td>\n",
       "      <td>Responsibilities\\nAssist the Associate Directo...</td>\n",
       "      <td>3.2</td>\n",
       "      <td>1199SEIU Funds\\n3.2</td>\n",
       "      <td>New York, NY</td>\n",
       "      <td>New York, NY</td>\n",
       "      <td>1001 to 5000 employees</td>\n",
       "      <td>-1</td>\n",
       "      <td>Nonprofit Organization</td>\n",
       "      <td>Insurance Carriers</td>\n",
       "      <td>Insurance</td>\n",
       "      <td>$100 to $500 million (USD)</td>\n",
       "      <td>-1</td>\n",
       "      <td>-1</td>\n",
       "    </tr>\n",
       "    <tr>\n",
       "      <th>812</th>\n",
       "      <td>Data Governance Analyst</td>\n",
       "      <td>$42K-$76K (Glassdoor est.)</td>\n",
       "      <td>SUMMARY\\nThe Data Governance Analyst performs ...</td>\n",
       "      <td>5.0</td>\n",
       "      <td>1872 Consulting\\n5.0</td>\n",
       "      <td>Chicago, IL</td>\n",
       "      <td>Chicago, IL</td>\n",
       "      <td>1 to 50 employees</td>\n",
       "      <td>-1</td>\n",
       "      <td>Company - Private</td>\n",
       "      <td>-1</td>\n",
       "      <td>-1</td>\n",
       "      <td>Unknown / Non-Applicable</td>\n",
       "      <td>-1</td>\n",
       "      <td>-1</td>\n",
       "    </tr>\n",
       "    <tr>\n",
       "      <th>1074</th>\n",
       "      <td>Data Analyst - Entry Level</td>\n",
       "      <td>$41K-$78K (Glassdoor est.)</td>\n",
       "      <td>Looking to hire for a Data Analyst role with o...</td>\n",
       "      <td>-1.0</td>\n",
       "      <td>2000 east westmoreland st llc</td>\n",
       "      <td>King of Prussia, PA</td>\n",
       "      <td>-1</td>\n",
       "      <td>-1</td>\n",
       "      <td>-1</td>\n",
       "      <td>-1</td>\n",
       "      <td>-1</td>\n",
       "      <td>-1</td>\n",
       "      <td>-1</td>\n",
       "      <td>-1</td>\n",
       "      <td>-1</td>\n",
       "    </tr>\n",
       "    <tr>\n",
       "      <th>...</th>\n",
       "      <td>...</td>\n",
       "      <td>...</td>\n",
       "      <td>...</td>\n",
       "      <td>...</td>\n",
       "      <td>...</td>\n",
       "      <td>...</td>\n",
       "      <td>...</td>\n",
       "      <td>...</td>\n",
       "      <td>...</td>\n",
       "      <td>...</td>\n",
       "      <td>...</td>\n",
       "      <td>...</td>\n",
       "      <td>...</td>\n",
       "      <td>...</td>\n",
       "      <td>...</td>\n",
       "    </tr>\n",
       "    <tr>\n",
       "      <th>1934</th>\n",
       "      <td>Data Analyst</td>\n",
       "      <td>$99K-$178K (Glassdoor est.)</td>\n",
       "      <td>About thredUP\\n\\nthredUP is the world’s larges...</td>\n",
       "      <td>3.9</td>\n",
       "      <td>thredUP\\n3.9</td>\n",
       "      <td>Oakland, CA</td>\n",
       "      <td>Oakland, CA</td>\n",
       "      <td>1001 to 5000 employees</td>\n",
       "      <td>2009</td>\n",
       "      <td>Company - Private</td>\n",
       "      <td>Department, Clothing, &amp; Shoe Stores</td>\n",
       "      <td>Retail</td>\n",
       "      <td>Unknown / Non-Applicable</td>\n",
       "      <td>-1</td>\n",
       "      <td>-1</td>\n",
       "    </tr>\n",
       "    <tr>\n",
       "      <th>2191</th>\n",
       "      <td>Data Science Analyst</td>\n",
       "      <td>$49K-$91K (Glassdoor est.)</td>\n",
       "      <td>Our Government and Large Commercial high-profi...</td>\n",
       "      <td>5.0</td>\n",
       "      <td>xentity corporation\\n5.0</td>\n",
       "      <td>Denver, CO</td>\n",
       "      <td>Lakewood, CO</td>\n",
       "      <td>51 to 200 employees</td>\n",
       "      <td>2001</td>\n",
       "      <td>Company - Private</td>\n",
       "      <td>IT Services</td>\n",
       "      <td>Information Technology</td>\n",
       "      <td>$5 to $10 million (USD)</td>\n",
       "      <td>-1</td>\n",
       "      <td>-1</td>\n",
       "    </tr>\n",
       "    <tr>\n",
       "      <th>2207</th>\n",
       "      <td>Data Analyst</td>\n",
       "      <td>$49K-$91K (Glassdoor est.)</td>\n",
       "      <td>We are looking for data analysts, data wrangle...</td>\n",
       "      <td>5.0</td>\n",
       "      <td>xentity corporation\\n5.0</td>\n",
       "      <td>Denver, CO</td>\n",
       "      <td>Lakewood, CO</td>\n",
       "      <td>51 to 200 employees</td>\n",
       "      <td>2001</td>\n",
       "      <td>Company - Private</td>\n",
       "      <td>IT Services</td>\n",
       "      <td>Information Technology</td>\n",
       "      <td>$5 to $10 million (USD)</td>\n",
       "      <td>-1</td>\n",
       "      <td>-1</td>\n",
       "    </tr>\n",
       "    <tr>\n",
       "      <th>685</th>\n",
       "      <td>Data Analyst I</td>\n",
       "      <td>$65K-$81K (Glassdoor est.)</td>\n",
       "      <td>Full-time Data Analyst to conduct research and...</td>\n",
       "      <td>-1.0</td>\n",
       "      <td>zz-Tarzana Treatment Centers, Inc.</td>\n",
       "      <td>Northridge, CA</td>\n",
       "      <td>-1</td>\n",
       "      <td>-1</td>\n",
       "      <td>-1</td>\n",
       "      <td>-1</td>\n",
       "      <td>-1</td>\n",
       "      <td>-1</td>\n",
       "      <td>-1</td>\n",
       "      <td>-1</td>\n",
       "      <td>-1</td>\n",
       "    </tr>\n",
       "    <tr>\n",
       "      <th>1860</th>\n",
       "      <td>Data Analyst</td>\n",
       "      <td>$53K-$99K (Glassdoor est.)</td>\n",
       "      <td>Kindred at Home, part of the Kindred at Home f...</td>\n",
       "      <td>-1.0</td>\n",
       "      <td>NaN</td>\n",
       "      <td>Mooresville, NC</td>\n",
       "      <td>-1</td>\n",
       "      <td>-1</td>\n",
       "      <td>-1</td>\n",
       "      <td>-1</td>\n",
       "      <td>-1</td>\n",
       "      <td>-1</td>\n",
       "      <td>-1</td>\n",
       "      <td>-1</td>\n",
       "      <td>-1</td>\n",
       "    </tr>\n",
       "  </tbody>\n",
       "</table>\n",
       "<p>2253 rows × 15 columns</p>\n",
       "</div>"
      ],
      "text/plain": [
       "                       Job Title              Salary Estimate  \\\n",
       "1352                Data Analyst   $30K-$53K (Glassdoor est.)   \n",
       "119             PBM Data Analyst   $51K-$87K (Glassdoor est.)   \n",
       "324          Senior Data Analyst   $42K-$74K (Glassdoor est.)   \n",
       "812      Data Governance Analyst   $42K-$76K (Glassdoor est.)   \n",
       "1074  Data Analyst - Entry Level   $41K-$78K (Glassdoor est.)   \n",
       "...                          ...                          ...   \n",
       "1934                Data Analyst  $99K-$178K (Glassdoor est.)   \n",
       "2191        Data Science Analyst   $49K-$91K (Glassdoor est.)   \n",
       "2207                Data Analyst   $49K-$91K (Glassdoor est.)   \n",
       "685               Data Analyst I   $65K-$81K (Glassdoor est.)   \n",
       "1860                Data Analyst   $53K-$99K (Glassdoor est.)   \n",
       "\n",
       "                                        Job Description  Rating  \\\n",
       "1352  Job Description\\nETL, SQL Queries, Data Modeli...    -1.0   \n",
       "119   Responsibilities:\\nProduce analyses and create...     3.2   \n",
       "324   Responsibilities\\nAssist the Associate Directo...     3.2   \n",
       "812   SUMMARY\\nThe Data Governance Analyst performs ...     5.0   \n",
       "1074  Looking to hire for a Data Analyst role with o...    -1.0   \n",
       "...                                                 ...     ...   \n",
       "1934  About thredUP\\n\\nthredUP is the world’s larges...     3.9   \n",
       "2191  Our Government and Large Commercial high-profi...     5.0   \n",
       "2207  We are looking for data analysts, data wrangle...     5.0   \n",
       "685   Full-time Data Analyst to conduct research and...    -1.0   \n",
       "1860  Kindred at Home, part of the Kindred at Home f...    -1.0   \n",
       "\n",
       "                            Company Name             Location  Headquarters  \\\n",
       "1352                                   1           Dallas, TX            -1   \n",
       "119                  1199SEIU Funds\\n3.2         New York, NY  New York, NY   \n",
       "324                  1199SEIU Funds\\n3.2         New York, NY  New York, NY   \n",
       "812                 1872 Consulting\\n5.0          Chicago, IL   Chicago, IL   \n",
       "1074       2000 east westmoreland st llc  King of Prussia, PA            -1   \n",
       "...                                  ...                  ...           ...   \n",
       "1934                        thredUP\\n3.9          Oakland, CA   Oakland, CA   \n",
       "2191            xentity corporation\\n5.0           Denver, CO  Lakewood, CO   \n",
       "2207            xentity corporation\\n5.0           Denver, CO  Lakewood, CO   \n",
       "685   zz-Tarzana Treatment Centers, Inc.       Northridge, CA            -1   \n",
       "1860                                 NaN      Mooresville, NC            -1   \n",
       "\n",
       "                        Size  Founded       Type of ownership  \\\n",
       "1352                      -1       -1                      -1   \n",
       "119   1001 to 5000 employees       -1  Nonprofit Organization   \n",
       "324   1001 to 5000 employees       -1  Nonprofit Organization   \n",
       "812        1 to 50 employees       -1       Company - Private   \n",
       "1074                      -1       -1                      -1   \n",
       "...                      ...      ...                     ...   \n",
       "1934  1001 to 5000 employees     2009       Company - Private   \n",
       "2191     51 to 200 employees     2001       Company - Private   \n",
       "2207     51 to 200 employees     2001       Company - Private   \n",
       "685                       -1       -1                      -1   \n",
       "1860                      -1       -1                      -1   \n",
       "\n",
       "                                 Industry                  Sector  \\\n",
       "1352                                   -1                      -1   \n",
       "119                    Insurance Carriers               Insurance   \n",
       "324                    Insurance Carriers               Insurance   \n",
       "812                                    -1                      -1   \n",
       "1074                                   -1                      -1   \n",
       "...                                   ...                     ...   \n",
       "1934  Department, Clothing, & Shoe Stores                  Retail   \n",
       "2191                          IT Services  Information Technology   \n",
       "2207                          IT Services  Information Technology   \n",
       "685                                    -1                      -1   \n",
       "1860                                   -1                      -1   \n",
       "\n",
       "                         Revenue Competitors Easy Apply  \n",
       "1352                          -1          -1         -1  \n",
       "119   $100 to $500 million (USD)          -1         -1  \n",
       "324   $100 to $500 million (USD)          -1         -1  \n",
       "812     Unknown / Non-Applicable          -1         -1  \n",
       "1074                          -1          -1         -1  \n",
       "...                          ...         ...        ...  \n",
       "1934    Unknown / Non-Applicable          -1         -1  \n",
       "2191     $5 to $10 million (USD)          -1         -1  \n",
       "2207     $5 to $10 million (USD)          -1         -1  \n",
       "685                           -1          -1         -1  \n",
       "1860                          -1          -1         -1  \n",
       "\n",
       "[2253 rows x 15 columns]"
      ]
     },
     "execution_count": 12,
     "metadata": {},
     "output_type": "execute_result"
    }
   ],
   "source": [
    "df.sort_values('Company Name')"
   ]
  },
  {
   "cell_type": "code",
   "execution_count": 13,
   "id": "ea60f96a",
   "metadata": {},
   "outputs": [
    {
     "data": {
      "text/plain": [
       "Job Title             object\n",
       "Salary Estimate       object\n",
       "Job Description       object\n",
       "Rating               float64\n",
       "Company Name          object\n",
       "Location              object\n",
       "Headquarters          object\n",
       "Size                  object\n",
       "Founded                int64\n",
       "Type of ownership     object\n",
       "Industry              object\n",
       "Sector                object\n",
       "Revenue               object\n",
       "Competitors           object\n",
       "Easy Apply            object\n",
       "dtype: object"
      ]
     },
     "execution_count": 13,
     "metadata": {},
     "output_type": "execute_result"
    }
   ],
   "source": [
    "df.dtypes"
   ]
  },
  {
   "cell_type": "markdown",
   "id": "67170421",
   "metadata": {},
   "source": [
    "##### Replace missing values ('-1', '1', -1.0, -1) with NaN and recheck for null values"
   ]
  },
  {
   "cell_type": "code",
   "execution_count": 14,
   "id": "3e0703b8",
   "metadata": {},
   "outputs": [],
   "source": [
    "df=df.replace(['-1', '1', 'Unknown', -1, -1.0], np.nan)"
   ]
  },
  {
   "cell_type": "code",
   "execution_count": 15,
   "id": "ebd25566",
   "metadata": {},
   "outputs": [
    {
     "data": {
      "text/plain": [
       "Job Title               0\n",
       "Salary Estimate         1\n",
       "Job Description         0\n",
       "Rating                272\n",
       "Company Name            2\n",
       "Location                0\n",
       "Headquarters          172\n",
       "Size                  205\n",
       "Founded               660\n",
       "Type of ownership     179\n",
       "Industry              353\n",
       "Sector                353\n",
       "Revenue               163\n",
       "Competitors          1732\n",
       "Easy Apply           2173\n",
       "dtype: int64"
      ]
     },
     "execution_count": 15,
     "metadata": {},
     "output_type": "execute_result"
    }
   ],
   "source": [
    "df.isnull().sum()"
   ]
  },
  {
   "cell_type": "markdown",
   "id": "4e367ac3",
   "metadata": {},
   "source": [
    "##### Remove rating from Company Name field as we have a dedicated column containing the rating for each company"
   ]
  },
  {
   "cell_type": "code",
   "execution_count": 16,
   "id": "8cfe1020",
   "metadata": {},
   "outputs": [],
   "source": [
    "df['Company Name']=df['Company Name'].str.split('\\n').str[0]"
   ]
  },
  {
   "cell_type": "markdown",
   "id": "40974be6",
   "metadata": {},
   "source": [
    "##### Extract max size from Size column and add it as a new column"
   ]
  },
  {
   "cell_type": "code",
   "execution_count": 17,
   "id": "d7f1bbe2",
   "metadata": {},
   "outputs": [],
   "source": [
    "df[['Min Size','Max Size']]=df['Size'].str.strip('employees').str.split('to', expand =True)"
   ]
  },
  {
   "cell_type": "code",
   "execution_count": 18,
   "id": "f0dae3c3",
   "metadata": {},
   "outputs": [],
   "source": [
    "df.loc[df['Size'] == '10000+ employees', 'Max Size'] = '10000'"
   ]
  },
  {
   "cell_type": "code",
   "execution_count": 19,
   "id": "fb72398d",
   "metadata": {},
   "outputs": [],
   "source": [
    "df.drop('Min Size', axis=1, inplace =True)"
   ]
  },
  {
   "cell_type": "code",
   "execution_count": 20,
   "id": "53becd99",
   "metadata": {},
   "outputs": [],
   "source": [
    "df['Max Size']=df['Max Size'].str.replace(' ', '')"
   ]
  },
  {
   "cell_type": "code",
   "execution_count": 21,
   "id": "e71b2924",
   "metadata": {
    "scrolled": false
   },
   "outputs": [
    {
     "data": {
      "text/html": [
       "<div>\n",
       "<style scoped>\n",
       "    .dataframe tbody tr th:only-of-type {\n",
       "        vertical-align: middle;\n",
       "    }\n",
       "\n",
       "    .dataframe tbody tr th {\n",
       "        vertical-align: top;\n",
       "    }\n",
       "\n",
       "    .dataframe thead th {\n",
       "        text-align: right;\n",
       "    }\n",
       "</style>\n",
       "<table border=\"1\" class=\"dataframe\">\n",
       "  <thead>\n",
       "    <tr style=\"text-align: right;\">\n",
       "      <th></th>\n",
       "      <th>Job Title</th>\n",
       "      <th>Salary Estimate</th>\n",
       "      <th>Job Description</th>\n",
       "      <th>Rating</th>\n",
       "      <th>Company Name</th>\n",
       "      <th>Location</th>\n",
       "      <th>Headquarters</th>\n",
       "      <th>Size</th>\n",
       "      <th>Founded</th>\n",
       "      <th>Type of ownership</th>\n",
       "      <th>Industry</th>\n",
       "      <th>Sector</th>\n",
       "      <th>Revenue</th>\n",
       "      <th>Competitors</th>\n",
       "      <th>Easy Apply</th>\n",
       "      <th>Max Size</th>\n",
       "    </tr>\n",
       "  </thead>\n",
       "  <tbody>\n",
       "    <tr>\n",
       "      <th>0</th>\n",
       "      <td>Data Analyst, Center on Immigration and Justic...</td>\n",
       "      <td>$37K-$66K (Glassdoor est.)</td>\n",
       "      <td>Are you eager to roll up your sleeves and harn...</td>\n",
       "      <td>3.2</td>\n",
       "      <td>Vera Institute of Justice</td>\n",
       "      <td>New York, NY</td>\n",
       "      <td>New York, NY</td>\n",
       "      <td>201 to 500 employees</td>\n",
       "      <td>1961.0</td>\n",
       "      <td>Nonprofit Organization</td>\n",
       "      <td>Social Assistance</td>\n",
       "      <td>Non-Profit</td>\n",
       "      <td>$100 to $500 million (USD)</td>\n",
       "      <td>NaN</td>\n",
       "      <td>True</td>\n",
       "      <td>500</td>\n",
       "    </tr>\n",
       "    <tr>\n",
       "      <th>1</th>\n",
       "      <td>Quality Data Analyst</td>\n",
       "      <td>$37K-$66K (Glassdoor est.)</td>\n",
       "      <td>Overview\\n\\nProvides analytical and technical ...</td>\n",
       "      <td>3.8</td>\n",
       "      <td>Visiting Nurse Service of New York</td>\n",
       "      <td>New York, NY</td>\n",
       "      <td>New York, NY</td>\n",
       "      <td>10000+ employees</td>\n",
       "      <td>1893.0</td>\n",
       "      <td>Nonprofit Organization</td>\n",
       "      <td>Health Care Services &amp; Hospitals</td>\n",
       "      <td>Health Care</td>\n",
       "      <td>$2 to $5 billion (USD)</td>\n",
       "      <td>NaN</td>\n",
       "      <td>NaN</td>\n",
       "      <td>10000</td>\n",
       "    </tr>\n",
       "  </tbody>\n",
       "</table>\n",
       "</div>"
      ],
      "text/plain": [
       "                                           Job Title  \\\n",
       "0  Data Analyst, Center on Immigration and Justic...   \n",
       "1                               Quality Data Analyst   \n",
       "\n",
       "              Salary Estimate  \\\n",
       "0  $37K-$66K (Glassdoor est.)   \n",
       "1  $37K-$66K (Glassdoor est.)   \n",
       "\n",
       "                                     Job Description  Rating  \\\n",
       "0  Are you eager to roll up your sleeves and harn...     3.2   \n",
       "1  Overview\\n\\nProvides analytical and technical ...     3.8   \n",
       "\n",
       "                         Company Name      Location  Headquarters  \\\n",
       "0           Vera Institute of Justice  New York, NY  New York, NY   \n",
       "1  Visiting Nurse Service of New York  New York, NY  New York, NY   \n",
       "\n",
       "                   Size  Founded       Type of ownership  \\\n",
       "0  201 to 500 employees   1961.0  Nonprofit Organization   \n",
       "1      10000+ employees   1893.0  Nonprofit Organization   \n",
       "\n",
       "                           Industry       Sector                     Revenue  \\\n",
       "0                 Social Assistance   Non-Profit  $100 to $500 million (USD)   \n",
       "1  Health Care Services & Hospitals  Health Care      $2 to $5 billion (USD)   \n",
       "\n",
       "  Competitors Easy Apply Max Size  \n",
       "0         NaN       True      500  \n",
       "1         NaN        NaN    10000  "
      ]
     },
     "execution_count": 21,
     "metadata": {},
     "output_type": "execute_result"
    }
   ],
   "source": [
    "df.head(2)"
   ]
  },
  {
   "cell_type": "markdown",
   "id": "d518c09f",
   "metadata": {},
   "source": [
    "#### Extract min and max salary as new columns and calculate average salary"
   ]
  },
  {
   "cell_type": "code",
   "execution_count": 22,
   "id": "f35f72dd",
   "metadata": {},
   "outputs": [],
   "source": [
    "df['Min Salary'] = (df['Salary Estimate'].str.split('-').str[0].str.strip('$').str.replace('K', '')).astype(float)\n",
    "df['Max Salary']= (df['Salary Estimate'].str.split('-').str[1].str.strip('$').str.replace('K', '').str.strip('(Glassdoor est.)')).astype(float)\n",
    "df['Avg Salary']=(df['Max Salary']+df['Min Salary'])/2"
   ]
  },
  {
   "cell_type": "code",
   "execution_count": 23,
   "id": "311f4e3c",
   "metadata": {},
   "outputs": [
    {
     "data": {
      "text/html": [
       "<div>\n",
       "<style scoped>\n",
       "    .dataframe tbody tr th:only-of-type {\n",
       "        vertical-align: middle;\n",
       "    }\n",
       "\n",
       "    .dataframe tbody tr th {\n",
       "        vertical-align: top;\n",
       "    }\n",
       "\n",
       "    .dataframe thead th {\n",
       "        text-align: right;\n",
       "    }\n",
       "</style>\n",
       "<table border=\"1\" class=\"dataframe\">\n",
       "  <thead>\n",
       "    <tr style=\"text-align: right;\">\n",
       "      <th></th>\n",
       "      <th>Job Title</th>\n",
       "      <th>Salary Estimate</th>\n",
       "      <th>Job Description</th>\n",
       "      <th>Rating</th>\n",
       "      <th>Company Name</th>\n",
       "      <th>Location</th>\n",
       "      <th>Headquarters</th>\n",
       "      <th>Size</th>\n",
       "      <th>Founded</th>\n",
       "      <th>Type of ownership</th>\n",
       "      <th>Industry</th>\n",
       "      <th>Sector</th>\n",
       "      <th>Revenue</th>\n",
       "      <th>Competitors</th>\n",
       "      <th>Easy Apply</th>\n",
       "      <th>Max Size</th>\n",
       "      <th>Min Salary</th>\n",
       "      <th>Max Salary</th>\n",
       "      <th>Avg Salary</th>\n",
       "    </tr>\n",
       "  </thead>\n",
       "  <tbody>\n",
       "    <tr>\n",
       "      <th>0</th>\n",
       "      <td>Data Analyst, Center on Immigration and Justic...</td>\n",
       "      <td>$37K-$66K (Glassdoor est.)</td>\n",
       "      <td>Are you eager to roll up your sleeves and harn...</td>\n",
       "      <td>3.2</td>\n",
       "      <td>Vera Institute of Justice</td>\n",
       "      <td>New York, NY</td>\n",
       "      <td>New York, NY</td>\n",
       "      <td>201 to 500 employees</td>\n",
       "      <td>1961.0</td>\n",
       "      <td>Nonprofit Organization</td>\n",
       "      <td>Social Assistance</td>\n",
       "      <td>Non-Profit</td>\n",
       "      <td>$100 to $500 million (USD)</td>\n",
       "      <td>NaN</td>\n",
       "      <td>True</td>\n",
       "      <td>500</td>\n",
       "      <td>37.0</td>\n",
       "      <td>66.0</td>\n",
       "      <td>51.5</td>\n",
       "    </tr>\n",
       "    <tr>\n",
       "      <th>1</th>\n",
       "      <td>Quality Data Analyst</td>\n",
       "      <td>$37K-$66K (Glassdoor est.)</td>\n",
       "      <td>Overview\\n\\nProvides analytical and technical ...</td>\n",
       "      <td>3.8</td>\n",
       "      <td>Visiting Nurse Service of New York</td>\n",
       "      <td>New York, NY</td>\n",
       "      <td>New York, NY</td>\n",
       "      <td>10000+ employees</td>\n",
       "      <td>1893.0</td>\n",
       "      <td>Nonprofit Organization</td>\n",
       "      <td>Health Care Services &amp; Hospitals</td>\n",
       "      <td>Health Care</td>\n",
       "      <td>$2 to $5 billion (USD)</td>\n",
       "      <td>NaN</td>\n",
       "      <td>NaN</td>\n",
       "      <td>10000</td>\n",
       "      <td>37.0</td>\n",
       "      <td>66.0</td>\n",
       "      <td>51.5</td>\n",
       "    </tr>\n",
       "    <tr>\n",
       "      <th>2</th>\n",
       "      <td>Senior Data Analyst, Insights &amp; Analytics Team...</td>\n",
       "      <td>$37K-$66K (Glassdoor est.)</td>\n",
       "      <td>We’re looking for a Senior Data Analyst who ha...</td>\n",
       "      <td>3.4</td>\n",
       "      <td>Squarespace</td>\n",
       "      <td>New York, NY</td>\n",
       "      <td>New York, NY</td>\n",
       "      <td>1001 to 5000 employees</td>\n",
       "      <td>2003.0</td>\n",
       "      <td>Company - Private</td>\n",
       "      <td>Internet</td>\n",
       "      <td>Information Technology</td>\n",
       "      <td>Unknown / Non-Applicable</td>\n",
       "      <td>GoDaddy</td>\n",
       "      <td>NaN</td>\n",
       "      <td>5000</td>\n",
       "      <td>37.0</td>\n",
       "      <td>66.0</td>\n",
       "      <td>51.5</td>\n",
       "    </tr>\n",
       "    <tr>\n",
       "      <th>3</th>\n",
       "      <td>Data Analyst</td>\n",
       "      <td>$37K-$66K (Glassdoor est.)</td>\n",
       "      <td>Requisition NumberRR-0001939\\nRemote:Yes\\nWe c...</td>\n",
       "      <td>4.1</td>\n",
       "      <td>Celerity</td>\n",
       "      <td>New York, NY</td>\n",
       "      <td>McLean, VA</td>\n",
       "      <td>201 to 500 employees</td>\n",
       "      <td>2002.0</td>\n",
       "      <td>Subsidiary or Business Segment</td>\n",
       "      <td>IT Services</td>\n",
       "      <td>Information Technology</td>\n",
       "      <td>$50 to $100 million (USD)</td>\n",
       "      <td>NaN</td>\n",
       "      <td>NaN</td>\n",
       "      <td>500</td>\n",
       "      <td>37.0</td>\n",
       "      <td>66.0</td>\n",
       "      <td>51.5</td>\n",
       "    </tr>\n",
       "    <tr>\n",
       "      <th>4</th>\n",
       "      <td>Reporting Data Analyst</td>\n",
       "      <td>$37K-$66K (Glassdoor est.)</td>\n",
       "      <td>ABOUT FANDUEL GROUP\\n\\nFanDuel Group is a worl...</td>\n",
       "      <td>3.9</td>\n",
       "      <td>FanDuel</td>\n",
       "      <td>New York, NY</td>\n",
       "      <td>New York, NY</td>\n",
       "      <td>501 to 1000 employees</td>\n",
       "      <td>2009.0</td>\n",
       "      <td>Company - Private</td>\n",
       "      <td>Sports &amp; Recreation</td>\n",
       "      <td>Arts, Entertainment &amp; Recreation</td>\n",
       "      <td>$100 to $500 million (USD)</td>\n",
       "      <td>DraftKings</td>\n",
       "      <td>True</td>\n",
       "      <td>1000</td>\n",
       "      <td>37.0</td>\n",
       "      <td>66.0</td>\n",
       "      <td>51.5</td>\n",
       "    </tr>\n",
       "  </tbody>\n",
       "</table>\n",
       "</div>"
      ],
      "text/plain": [
       "                                           Job Title  \\\n",
       "0  Data Analyst, Center on Immigration and Justic...   \n",
       "1                               Quality Data Analyst   \n",
       "2  Senior Data Analyst, Insights & Analytics Team...   \n",
       "3                                       Data Analyst   \n",
       "4                             Reporting Data Analyst   \n",
       "\n",
       "              Salary Estimate  \\\n",
       "0  $37K-$66K (Glassdoor est.)   \n",
       "1  $37K-$66K (Glassdoor est.)   \n",
       "2  $37K-$66K (Glassdoor est.)   \n",
       "3  $37K-$66K (Glassdoor est.)   \n",
       "4  $37K-$66K (Glassdoor est.)   \n",
       "\n",
       "                                     Job Description  Rating  \\\n",
       "0  Are you eager to roll up your sleeves and harn...     3.2   \n",
       "1  Overview\\n\\nProvides analytical and technical ...     3.8   \n",
       "2  We’re looking for a Senior Data Analyst who ha...     3.4   \n",
       "3  Requisition NumberRR-0001939\\nRemote:Yes\\nWe c...     4.1   \n",
       "4  ABOUT FANDUEL GROUP\\n\\nFanDuel Group is a worl...     3.9   \n",
       "\n",
       "                         Company Name      Location  Headquarters  \\\n",
       "0           Vera Institute of Justice  New York, NY  New York, NY   \n",
       "1  Visiting Nurse Service of New York  New York, NY  New York, NY   \n",
       "2                         Squarespace  New York, NY  New York, NY   \n",
       "3                            Celerity  New York, NY    McLean, VA   \n",
       "4                             FanDuel  New York, NY  New York, NY   \n",
       "\n",
       "                     Size  Founded               Type of ownership  \\\n",
       "0    201 to 500 employees   1961.0          Nonprofit Organization   \n",
       "1        10000+ employees   1893.0          Nonprofit Organization   \n",
       "2  1001 to 5000 employees   2003.0               Company - Private   \n",
       "3    201 to 500 employees   2002.0  Subsidiary or Business Segment   \n",
       "4   501 to 1000 employees   2009.0               Company - Private   \n",
       "\n",
       "                           Industry                            Sector  \\\n",
       "0                 Social Assistance                        Non-Profit   \n",
       "1  Health Care Services & Hospitals                       Health Care   \n",
       "2                          Internet            Information Technology   \n",
       "3                       IT Services            Information Technology   \n",
       "4               Sports & Recreation  Arts, Entertainment & Recreation   \n",
       "\n",
       "                      Revenue Competitors Easy Apply Max Size  Min Salary  \\\n",
       "0  $100 to $500 million (USD)         NaN       True      500        37.0   \n",
       "1      $2 to $5 billion (USD)         NaN        NaN    10000        37.0   \n",
       "2    Unknown / Non-Applicable     GoDaddy        NaN     5000        37.0   \n",
       "3   $50 to $100 million (USD)         NaN        NaN      500        37.0   \n",
       "4  $100 to $500 million (USD)  DraftKings       True     1000        37.0   \n",
       "\n",
       "   Max Salary  Avg Salary  \n",
       "0        66.0        51.5  \n",
       "1        66.0        51.5  \n",
       "2        66.0        51.5  \n",
       "3        66.0        51.5  \n",
       "4        66.0        51.5  "
      ]
     },
     "execution_count": 23,
     "metadata": {},
     "output_type": "execute_result"
    }
   ],
   "source": [
    "df.head()"
   ]
  },
  {
   "cell_type": "markdown",
   "id": "a203ab4f",
   "metadata": {},
   "source": [
    "#### Make job titles more consistent"
   ]
  },
  {
   "cell_type": "code",
   "execution_count": 24,
   "id": "44e6092f",
   "metadata": {},
   "outputs": [
    {
     "data": {
      "text/plain": [
       "1272"
      ]
     },
     "execution_count": 24,
     "metadata": {},
     "output_type": "execute_result"
    }
   ],
   "source": [
    "df['Job Title'].nunique()"
   ]
  },
  {
   "cell_type": "code",
   "execution_count": 25,
   "id": "25efc1f7",
   "metadata": {
    "scrolled": true
   },
   "outputs": [
    {
     "data": {
      "text/plain": [
       "Data Analyst                        405\n",
       "Senior Data Analyst                  90\n",
       "Junior Data Analyst                  30\n",
       "Business Data Analyst                28\n",
       "Sr. Data Analyst                     21\n",
       "                                   ... \n",
       "Data Analyst – Level II               1\n",
       "Data Analyst/Programmer               1\n",
       "Data Services Business Analyst 2      1\n",
       "Call Center Data Analyst              1\n",
       "Senior Quality Data Analyst           1\n",
       "Name: Job Title, Length: 1272, dtype: int64"
      ]
     },
     "execution_count": 25,
     "metadata": {},
     "output_type": "execute_result"
    }
   ],
   "source": [
    "df['Job Title'].value_counts()"
   ]
  },
  {
   "cell_type": "code",
   "execution_count": 26,
   "id": "8bf9fcbc",
   "metadata": {},
   "outputs": [],
   "source": [
    "df['Job Title']=df['Job Title'].replace(['SR Data Analyst', 'SR. Data Analyst', 'Sr Data Analyst', 'Sr. Data Analyst',\n",
    "                                         'sr. data analyst', 'sr data analyst', 'senior data analyst', 'Senior data analyst',\n",
    "                                        'Sr Analyst, Data', 'Sr. Analyst, Data', 'SR Analyst, Data', 'SR. Analyst, Data'], \n",
    "                                        'Senior Data Analyst', regex=True)"
   ]
  },
  {
   "cell_type": "code",
   "execution_count": 27,
   "id": "60824f93",
   "metadata": {},
   "outputs": [],
   "source": [
    "df['Job Title']=df['Job Title'].replace(['JR Data Analyst', 'JR. Data Analyst', 'Jr Data Analyst', 'Jr. Data Analyst',  \n",
    "                                         'jr. data analyst', 'jr data analyst', 'junior data analyst', 'Junior data analyst',\n",
    "                                        'Data Analyst Junior', 'data analyst junior', 'Data Analyst Junior',\n",
    "                                         'Entry Level Data Analyst', 'Entry-Level Data Analyst', 'Data Analyst (Junior) ', \n",
    "                                         'Entry Level / Junior Data Analyst'], \n",
    "                                        'Junior Data Analyst', regex=True)"
   ]
  },
  {
   "cell_type": "code",
   "execution_count": 28,
   "id": "71bd80cd",
   "metadata": {},
   "outputs": [
    {
     "data": {
      "text/plain": [
       "Data Analyst                                                 405\n",
       "Senior Data Analyst                                          123\n",
       "Junior Data Analyst                                           51\n",
       "Business Data Analyst                                         28\n",
       "Data Analyst II                                               17\n",
       "                                                            ... \n",
       "Data Services Business Analyst 2                               1\n",
       "Call Center Data Analyst                                       1\n",
       "Senior Global Data Analyst / Power BI Dashboard Developer      1\n",
       "Data Production Analyst                                        1\n",
       "Senior Quality Data Analyst                                    1\n",
       "Name: Job Title, Length: 1263, dtype: int64"
      ]
     },
     "execution_count": 28,
     "metadata": {},
     "output_type": "execute_result"
    }
   ],
   "source": [
    "df['Job Title'].value_counts()"
   ]
  },
  {
   "cell_type": "code",
   "execution_count": 29,
   "id": "93072f10",
   "metadata": {},
   "outputs": [
    {
     "data": {
      "text/plain": [
       "1263"
      ]
     },
     "execution_count": 29,
     "metadata": {},
     "output_type": "execute_result"
    }
   ],
   "source": [
    "df['Job Title'].nunique()"
   ]
  },
  {
   "cell_type": "markdown",
   "id": "67f36701",
   "metadata": {},
   "source": [
    "#### Extract seniority level from Job Title column"
   ]
  },
  {
   "cell_type": "code",
   "execution_count": 30,
   "id": "8051fe48",
   "metadata": {},
   "outputs": [],
   "source": [
    "d=df['Job Description'][100]"
   ]
  },
  {
   "cell_type": "code",
   "execution_count": 31,
   "id": "a645b776",
   "metadata": {},
   "outputs": [],
   "source": [
    "df['Junior level']=df['Job Title'].str.contains(r'Junior|[\\W*]Junior|Jr|Entry[\\s-]level|Entry[\\s-]Level|Intern[\\W*]')\n",
    "df['Senior level']=df['Job Title'].str.contains(r'Senior|[\\W*]Senior|Sr|senior[\\W*]')\n",
    "df['Lead level']=df['Job Title'].str.contains(r'Lead|[\\W*]Lead|Principal[\\W*]')\n",
    "df['Mid level']=np.where(((df['Junior level']==False) & (df['Senior level']==False) & (df['Lead level']==False)), True, False)"
   ]
  },
  {
   "cell_type": "code",
   "execution_count": 32,
   "id": "c4e1debd",
   "metadata": {},
   "outputs": [],
   "source": [
    "df.loc[df['Junior level']==True, 'Level']='Junior'\n",
    "df.loc[df['Mid level']==True, 'Level']='Mid'\n",
    "df.loc[df['Senior level']==True, 'Level']='Senior'\n",
    "df.loc[df['Lead level']==True,'Level']='Lead'"
   ]
  },
  {
   "cell_type": "code",
   "execution_count": 33,
   "id": "36211561",
   "metadata": {
    "scrolled": true
   },
   "outputs": [
    {
     "data": {
      "text/html": [
       "<div>\n",
       "<style scoped>\n",
       "    .dataframe tbody tr th:only-of-type {\n",
       "        vertical-align: middle;\n",
       "    }\n",
       "\n",
       "    .dataframe tbody tr th {\n",
       "        vertical-align: top;\n",
       "    }\n",
       "\n",
       "    .dataframe thead th {\n",
       "        text-align: right;\n",
       "    }\n",
       "</style>\n",
       "<table border=\"1\" class=\"dataframe\">\n",
       "  <thead>\n",
       "    <tr style=\"text-align: right;\">\n",
       "      <th></th>\n",
       "      <th>Job Title</th>\n",
       "      <th>Salary Estimate</th>\n",
       "      <th>Job Description</th>\n",
       "      <th>Rating</th>\n",
       "      <th>Company Name</th>\n",
       "      <th>Location</th>\n",
       "      <th>Headquarters</th>\n",
       "      <th>Size</th>\n",
       "      <th>Founded</th>\n",
       "      <th>Type of ownership</th>\n",
       "      <th>...</th>\n",
       "      <th>Easy Apply</th>\n",
       "      <th>Max Size</th>\n",
       "      <th>Min Salary</th>\n",
       "      <th>Max Salary</th>\n",
       "      <th>Avg Salary</th>\n",
       "      <th>Junior level</th>\n",
       "      <th>Senior level</th>\n",
       "      <th>Lead level</th>\n",
       "      <th>Mid level</th>\n",
       "      <th>Level</th>\n",
       "    </tr>\n",
       "  </thead>\n",
       "  <tbody>\n",
       "    <tr>\n",
       "      <th>0</th>\n",
       "      <td>Data Analyst, Center on Immigration and Justic...</td>\n",
       "      <td>$37K-$66K (Glassdoor est.)</td>\n",
       "      <td>Are you eager to roll up your sleeves and harn...</td>\n",
       "      <td>3.2</td>\n",
       "      <td>Vera Institute of Justice</td>\n",
       "      <td>New York, NY</td>\n",
       "      <td>New York, NY</td>\n",
       "      <td>201 to 500 employees</td>\n",
       "      <td>1961.0</td>\n",
       "      <td>Nonprofit Organization</td>\n",
       "      <td>...</td>\n",
       "      <td>True</td>\n",
       "      <td>500</td>\n",
       "      <td>37.0</td>\n",
       "      <td>66.0</td>\n",
       "      <td>51.5</td>\n",
       "      <td>False</td>\n",
       "      <td>False</td>\n",
       "      <td>False</td>\n",
       "      <td>True</td>\n",
       "      <td>Mid</td>\n",
       "    </tr>\n",
       "    <tr>\n",
       "      <th>1</th>\n",
       "      <td>Quality Data Analyst</td>\n",
       "      <td>$37K-$66K (Glassdoor est.)</td>\n",
       "      <td>Overview\\n\\nProvides analytical and technical ...</td>\n",
       "      <td>3.8</td>\n",
       "      <td>Visiting Nurse Service of New York</td>\n",
       "      <td>New York, NY</td>\n",
       "      <td>New York, NY</td>\n",
       "      <td>10000+ employees</td>\n",
       "      <td>1893.0</td>\n",
       "      <td>Nonprofit Organization</td>\n",
       "      <td>...</td>\n",
       "      <td>NaN</td>\n",
       "      <td>10000</td>\n",
       "      <td>37.0</td>\n",
       "      <td>66.0</td>\n",
       "      <td>51.5</td>\n",
       "      <td>False</td>\n",
       "      <td>False</td>\n",
       "      <td>False</td>\n",
       "      <td>True</td>\n",
       "      <td>Mid</td>\n",
       "    </tr>\n",
       "    <tr>\n",
       "      <th>2</th>\n",
       "      <td>Senior Data Analyst, Insights &amp; Analytics Team...</td>\n",
       "      <td>$37K-$66K (Glassdoor est.)</td>\n",
       "      <td>We’re looking for a Senior Data Analyst who ha...</td>\n",
       "      <td>3.4</td>\n",
       "      <td>Squarespace</td>\n",
       "      <td>New York, NY</td>\n",
       "      <td>New York, NY</td>\n",
       "      <td>1001 to 5000 employees</td>\n",
       "      <td>2003.0</td>\n",
       "      <td>Company - Private</td>\n",
       "      <td>...</td>\n",
       "      <td>NaN</td>\n",
       "      <td>5000</td>\n",
       "      <td>37.0</td>\n",
       "      <td>66.0</td>\n",
       "      <td>51.5</td>\n",
       "      <td>False</td>\n",
       "      <td>True</td>\n",
       "      <td>False</td>\n",
       "      <td>False</td>\n",
       "      <td>Senior</td>\n",
       "    </tr>\n",
       "    <tr>\n",
       "      <th>3</th>\n",
       "      <td>Data Analyst</td>\n",
       "      <td>$37K-$66K (Glassdoor est.)</td>\n",
       "      <td>Requisition NumberRR-0001939\\nRemote:Yes\\nWe c...</td>\n",
       "      <td>4.1</td>\n",
       "      <td>Celerity</td>\n",
       "      <td>New York, NY</td>\n",
       "      <td>McLean, VA</td>\n",
       "      <td>201 to 500 employees</td>\n",
       "      <td>2002.0</td>\n",
       "      <td>Subsidiary or Business Segment</td>\n",
       "      <td>...</td>\n",
       "      <td>NaN</td>\n",
       "      <td>500</td>\n",
       "      <td>37.0</td>\n",
       "      <td>66.0</td>\n",
       "      <td>51.5</td>\n",
       "      <td>False</td>\n",
       "      <td>False</td>\n",
       "      <td>False</td>\n",
       "      <td>True</td>\n",
       "      <td>Mid</td>\n",
       "    </tr>\n",
       "    <tr>\n",
       "      <th>4</th>\n",
       "      <td>Reporting Data Analyst</td>\n",
       "      <td>$37K-$66K (Glassdoor est.)</td>\n",
       "      <td>ABOUT FANDUEL GROUP\\n\\nFanDuel Group is a worl...</td>\n",
       "      <td>3.9</td>\n",
       "      <td>FanDuel</td>\n",
       "      <td>New York, NY</td>\n",
       "      <td>New York, NY</td>\n",
       "      <td>501 to 1000 employees</td>\n",
       "      <td>2009.0</td>\n",
       "      <td>Company - Private</td>\n",
       "      <td>...</td>\n",
       "      <td>True</td>\n",
       "      <td>1000</td>\n",
       "      <td>37.0</td>\n",
       "      <td>66.0</td>\n",
       "      <td>51.5</td>\n",
       "      <td>False</td>\n",
       "      <td>False</td>\n",
       "      <td>False</td>\n",
       "      <td>True</td>\n",
       "      <td>Mid</td>\n",
       "    </tr>\n",
       "  </tbody>\n",
       "</table>\n",
       "<p>5 rows × 24 columns</p>\n",
       "</div>"
      ],
      "text/plain": [
       "                                           Job Title  \\\n",
       "0  Data Analyst, Center on Immigration and Justic...   \n",
       "1                               Quality Data Analyst   \n",
       "2  Senior Data Analyst, Insights & Analytics Team...   \n",
       "3                                       Data Analyst   \n",
       "4                             Reporting Data Analyst   \n",
       "\n",
       "              Salary Estimate  \\\n",
       "0  $37K-$66K (Glassdoor est.)   \n",
       "1  $37K-$66K (Glassdoor est.)   \n",
       "2  $37K-$66K (Glassdoor est.)   \n",
       "3  $37K-$66K (Glassdoor est.)   \n",
       "4  $37K-$66K (Glassdoor est.)   \n",
       "\n",
       "                                     Job Description  Rating  \\\n",
       "0  Are you eager to roll up your sleeves and harn...     3.2   \n",
       "1  Overview\\n\\nProvides analytical and technical ...     3.8   \n",
       "2  We’re looking for a Senior Data Analyst who ha...     3.4   \n",
       "3  Requisition NumberRR-0001939\\nRemote:Yes\\nWe c...     4.1   \n",
       "4  ABOUT FANDUEL GROUP\\n\\nFanDuel Group is a worl...     3.9   \n",
       "\n",
       "                         Company Name      Location  Headquarters  \\\n",
       "0           Vera Institute of Justice  New York, NY  New York, NY   \n",
       "1  Visiting Nurse Service of New York  New York, NY  New York, NY   \n",
       "2                         Squarespace  New York, NY  New York, NY   \n",
       "3                            Celerity  New York, NY    McLean, VA   \n",
       "4                             FanDuel  New York, NY  New York, NY   \n",
       "\n",
       "                     Size  Founded               Type of ownership  ...  \\\n",
       "0    201 to 500 employees   1961.0          Nonprofit Organization  ...   \n",
       "1        10000+ employees   1893.0          Nonprofit Organization  ...   \n",
       "2  1001 to 5000 employees   2003.0               Company - Private  ...   \n",
       "3    201 to 500 employees   2002.0  Subsidiary or Business Segment  ...   \n",
       "4   501 to 1000 employees   2009.0               Company - Private  ...   \n",
       "\n",
       "  Easy Apply Max Size Min Salary Max Salary Avg Salary Junior level  \\\n",
       "0       True      500       37.0       66.0       51.5        False   \n",
       "1        NaN    10000       37.0       66.0       51.5        False   \n",
       "2        NaN     5000       37.0       66.0       51.5        False   \n",
       "3        NaN      500       37.0       66.0       51.5        False   \n",
       "4       True     1000       37.0       66.0       51.5        False   \n",
       "\n",
       "   Senior level  Lead level  Mid level   Level  \n",
       "0         False       False       True     Mid  \n",
       "1         False       False       True     Mid  \n",
       "2          True       False      False  Senior  \n",
       "3         False       False       True     Mid  \n",
       "4         False       False       True     Mid  \n",
       "\n",
       "[5 rows x 24 columns]"
      ]
     },
     "execution_count": 33,
     "metadata": {},
     "output_type": "execute_result"
    }
   ],
   "source": [
    "df.head()"
   ]
  },
  {
   "cell_type": "markdown",
   "id": "dd712785",
   "metadata": {},
   "source": [
    "##### Extract skills from Job Description column"
   ]
  },
  {
   "cell_type": "code",
   "execution_count": 34,
   "id": "a47408ef",
   "metadata": {},
   "outputs": [],
   "source": [
    "df['Excel']=df['Job Description'].str.contains(r'[\\W+]spreadsheet|Excel[\\W+]')\n",
    "df['SQL']=df['Job Description'].str.contains(r'[\\W*]SQL|sql[\\W*]')\n",
    "df['Python']= df['Job Description'].str.contains(r'[\\W*]python|Python[\\W*]')\n",
    "df['R']=df['Job Description'].str.contains(r'[\\W*]R[\\W*]')\n",
    "df['Tableau']=df['Job Description'].str.contains(r'[\\W+]Tableau[\\W+]')\n",
    "df['PowerBI']=df['Job Description'].str.contains(r'[\\W*]power[\\s*-]bi|Power[\\s-]BI|Power[\\s*-]Bi[\\W*]')"
   ]
  },
  {
   "cell_type": "markdown",
   "id": "afe809d1",
   "metadata": {},
   "source": [
    "#### Drop columns not used for analysis and recheck for missing values"
   ]
  },
  {
   "cell_type": "code",
   "execution_count": 35,
   "id": "a7d5c22d",
   "metadata": {},
   "outputs": [],
   "source": [
    "df.drop(['Salary Estimate', 'Job Description', 'Size', 'Competitors', \n",
    "                'Headquarters', 'Sector', 'Revenue', 'Easy Apply'], axis=1,inplace=True)"
   ]
  },
  {
   "cell_type": "code",
   "execution_count": 36,
   "id": "931db988",
   "metadata": {
    "scrolled": false
   },
   "outputs": [
    {
     "data": {
      "text/plain": [
       "Job Title              0\n",
       "Rating               272\n",
       "Company Name           2\n",
       "Location               0\n",
       "Founded              660\n",
       "Type of ownership    179\n",
       "Industry             353\n",
       "Max Size             205\n",
       "Min Salary             1\n",
       "Max Salary             1\n",
       "Avg Salary             1\n",
       "Junior level           0\n",
       "Senior level           0\n",
       "Lead level             0\n",
       "Mid level              0\n",
       "Level                  0\n",
       "Excel                  0\n",
       "SQL                    0\n",
       "Python                 0\n",
       "R                      0\n",
       "Tableau                0\n",
       "PowerBI                0\n",
       "dtype: int64"
      ]
     },
     "execution_count": 36,
     "metadata": {},
     "output_type": "execute_result"
    }
   ],
   "source": [
    "df.isna().sum()"
   ]
  },
  {
   "cell_type": "markdown",
   "id": "d1b5b865",
   "metadata": {},
   "source": [
    "#### Change Founded column data type to integer and drop rows with missing salary data"
   ]
  },
  {
   "cell_type": "code",
   "execution_count": 37,
   "id": "9055f9c4",
   "metadata": {},
   "outputs": [],
   "source": [
    "df['Founded']=df['Founded'].astype('int', errors='ignore')"
   ]
  },
  {
   "cell_type": "code",
   "execution_count": 38,
   "id": "eaaec6e4",
   "metadata": {},
   "outputs": [],
   "source": [
    "df=df.dropna(subset=['Min Salary', 'Max Salary', 'Avg Salary'])"
   ]
  },
  {
   "cell_type": "markdown",
   "id": "2e340851",
   "metadata": {},
   "source": [
    "#### Data overview"
   ]
  },
  {
   "cell_type": "code",
   "execution_count": 39,
   "id": "931e7f7a",
   "metadata": {
    "scrolled": true
   },
   "outputs": [
    {
     "data": {
      "text/html": [
       "<div>\n",
       "<style scoped>\n",
       "    .dataframe tbody tr th:only-of-type {\n",
       "        vertical-align: middle;\n",
       "    }\n",
       "\n",
       "    .dataframe tbody tr th {\n",
       "        vertical-align: top;\n",
       "    }\n",
       "\n",
       "    .dataframe thead th {\n",
       "        text-align: right;\n",
       "    }\n",
       "</style>\n",
       "<table border=\"1\" class=\"dataframe\">\n",
       "  <thead>\n",
       "    <tr style=\"text-align: right;\">\n",
       "      <th></th>\n",
       "      <th>Rating</th>\n",
       "      <th>Founded</th>\n",
       "      <th>Min Salary</th>\n",
       "      <th>Max Salary</th>\n",
       "      <th>Avg Salary</th>\n",
       "    </tr>\n",
       "  </thead>\n",
       "  <tbody>\n",
       "    <tr>\n",
       "      <th>count</th>\n",
       "      <td>1980.000000</td>\n",
       "      <td>1592.000000</td>\n",
       "      <td>2252.000000</td>\n",
       "      <td>2252.000000</td>\n",
       "      <td>2252.000000</td>\n",
       "    </tr>\n",
       "    <tr>\n",
       "      <th>mean</th>\n",
       "      <td>3.731566</td>\n",
       "      <td>1978.348618</td>\n",
       "      <td>54.266874</td>\n",
       "      <td>89.979130</td>\n",
       "      <td>72.123002</td>\n",
       "    </tr>\n",
       "    <tr>\n",
       "      <th>std</th>\n",
       "      <td>0.670333</td>\n",
       "      <td>47.833946</td>\n",
       "      <td>19.575375</td>\n",
       "      <td>29.315605</td>\n",
       "      <td>23.600734</td>\n",
       "    </tr>\n",
       "    <tr>\n",
       "      <th>min</th>\n",
       "      <td>1.000000</td>\n",
       "      <td>1682.000000</td>\n",
       "      <td>24.000000</td>\n",
       "      <td>38.000000</td>\n",
       "      <td>33.500000</td>\n",
       "    </tr>\n",
       "    <tr>\n",
       "      <th>25%</th>\n",
       "      <td>3.300000</td>\n",
       "      <td>1970.000000</td>\n",
       "      <td>41.000000</td>\n",
       "      <td>70.000000</td>\n",
       "      <td>58.000000</td>\n",
       "    </tr>\n",
       "    <tr>\n",
       "      <th>50%</th>\n",
       "      <td>3.700000</td>\n",
       "      <td>1997.000000</td>\n",
       "      <td>50.000000</td>\n",
       "      <td>87.000000</td>\n",
       "      <td>69.000000</td>\n",
       "    </tr>\n",
       "    <tr>\n",
       "      <th>75%</th>\n",
       "      <td>4.100000</td>\n",
       "      <td>2006.000000</td>\n",
       "      <td>64.000000</td>\n",
       "      <td>104.000000</td>\n",
       "      <td>80.500000</td>\n",
       "    </tr>\n",
       "    <tr>\n",
       "      <th>max</th>\n",
       "      <td>5.000000</td>\n",
       "      <td>2019.000000</td>\n",
       "      <td>113.000000</td>\n",
       "      <td>190.000000</td>\n",
       "      <td>150.000000</td>\n",
       "    </tr>\n",
       "  </tbody>\n",
       "</table>\n",
       "</div>"
      ],
      "text/plain": [
       "            Rating      Founded   Min Salary   Max Salary   Avg Salary\n",
       "count  1980.000000  1592.000000  2252.000000  2252.000000  2252.000000\n",
       "mean      3.731566  1978.348618    54.266874    89.979130    72.123002\n",
       "std       0.670333    47.833946    19.575375    29.315605    23.600734\n",
       "min       1.000000  1682.000000    24.000000    38.000000    33.500000\n",
       "25%       3.300000  1970.000000    41.000000    70.000000    58.000000\n",
       "50%       3.700000  1997.000000    50.000000    87.000000    69.000000\n",
       "75%       4.100000  2006.000000    64.000000   104.000000    80.500000\n",
       "max       5.000000  2019.000000   113.000000   190.000000   150.000000"
      ]
     },
     "execution_count": 39,
     "metadata": {},
     "output_type": "execute_result"
    }
   ],
   "source": [
    "df.describe()"
   ]
  },
  {
   "cell_type": "markdown",
   "id": "1dad522b",
   "metadata": {},
   "source": [
    "### Data visualisation "
   ]
  },
  {
   "cell_type": "markdown",
   "id": "145cf146",
   "metadata": {},
   "source": [
    "#### What kind of companies (by size and by age) are looking for data analysts?"
   ]
  },
  {
   "cell_type": "code",
   "execution_count": 40,
   "id": "23d6bf1f",
   "metadata": {},
   "outputs": [],
   "source": [
    "df['Since']=2024-df['Founded']\n",
    "df_new=df[['Max Size','Since',\"Job Title\"]]"
   ]
  },
  {
   "cell_type": "code",
   "execution_count": 41,
   "id": "b3e4f80b",
   "metadata": {
    "scrolled": true
   },
   "outputs": [
    {
     "name": "stderr",
     "output_type": "stream",
     "text": [
      "C:\\Users\\Admin\\AppData\\Local\\Temp\\ipykernel_17176\\4151950708.py:3: SettingWithCopyWarning: \n",
      "A value is trying to be set on a copy of a slice from a DataFrame.\n",
      "Try using .loc[row_indexer,col_indexer] = value instead\n",
      "\n",
      "See the caveats in the documentation: https://pandas.pydata.org/pandas-docs/stable/user_guide/indexing.html#returning-a-view-versus-a-copy\n",
      "  df_new['Since founded bins']=pd.cut(df_new['Since'], bins=bins,\n"
     ]
    },
    {
     "data": {
      "image/png": "[encoded data removed]",
      "text/plain": [
       "<Figure size 1600x900 with 1 Axes>"
      ]
     },
     "metadata": {},
     "output_type": "display_data"
    }
   ],
   "source": [
    "bins=[0,40,80,120,160,200,240,280,320,360]\n",
    "labels=[0,40,80,120,160,200,240,280,320]\n",
    "df_new['Since founded bins']=pd.cut(df_new['Since'], bins=bins, \n",
    "                                    labels=labels)\n",
    "\n",
    "df_grouped=df_new.groupby(['Max Size', 'Since founded bins']).size()\n",
    "mask = df_grouped != 0\n",
    "df_bar=df_grouped[mask]\n",
    "df_bar\n",
    "\n",
    "ax=df_bar.plot.barh(color='green', figsize=(16,9))\n",
    "for container in ax.containers:\n",
    "    ax.bar_label(container)\n",
    "\n",
    "plt.xlabel('Number of jobs')\n",
    "plt.ylabel('Size and age')\n",
    "plt.title('Number of jobs by company size and by years since founded')\n",
    "plt.show()"
   ]
  },
  {
   "cell_type": "markdown",
   "id": "11217b10",
   "metadata": {},
   "source": [
    "##### Which industries are looking for juniors?"
   ]
  },
  {
   "cell_type": "code",
   "execution_count": 45,
   "id": "89f081c7",
   "metadata": {},
   "outputs": [],
   "source": [
    "dff=df[['Industry','Level','Job Title']]"
   ]
  },
  {
   "cell_type": "code",
   "execution_count": 145,
   "id": "78ce5bc4",
   "metadata": {},
   "outputs": [
    {
     "data": {
      "image/png": "[encoded data removed]",
      "text/plain": [
       "<Figure size 3000x1000 with 1 Axes>"
      ]
     },
     "metadata": {},
     "output_type": "display_data"
    }
   ],
   "source": [
    "df2 = dff.groupby(['Industry','Level'])['Industry'].count().unstack('Level')\n",
    "fig=df2.sort_values('Junior', ascending=False).head(20)[['Senior','Lead','Mid','Junior']].plot(kind='bar', stacked=True, figsize=(30,10))\n"
   ]
  },
  {
   "cell_type": "markdown",
   "id": "56b8dde9",
   "metadata": {},
   "source": [
    "#### What are the most in demand skills? What skills are required for a junior vs more senior roles?"
   ]
  },
  {
   "cell_type": "code",
   "execution_count": 228,
   "id": "f67cc0e6",
   "metadata": {},
   "outputs": [
    {
     "data": {
      "text/plain": [
       "<matplotlib.legend.Legend at 0x21d3095bf40>"
      ]
     },
     "execution_count": 228,
     "metadata": {},
     "output_type": "execute_result"
    },
    {
     "data": {
      "image/png": "[encoded data removed]",
      "text/plain": [
       "<Figure size 1400x700 with 6 Axes>"
      ]
     },
     "metadata": {},
     "output_type": "display_data"
    }
   ],
   "source": [
    "# Skills in demand\n",
    "\n",
    "df_req=pd.DataFrame()\n",
    "df_req['SQL']=df['SQL'].value_counts()\n",
    "df_req['Excel']=df['Excel'].value_counts()\n",
    "df_req['Python']=df['Python'].value_counts()\n",
    "df_req['R']=df['R'].value_counts()\n",
    "df_req['Tableau']=df['Tableau'].value_counts()\n",
    "df_req['PowerBI']=df['PowerBI'].value_counts()\n",
    "\n",
    "fig,axes =plt.subplots(1,6, figsize=(14,7))\n",
    "\n",
    "\n",
    "for ax, col in zip(axes, df_req.columns):\n",
    "    ax.pie(df_req[col], wedgeprops=dict(width=0.2), labels=df_req[col].values)\n",
    "    ax.set(title=col,aspect='equal')\n",
    "\n",
    "ax.legend(labels, bbox_to_anchor=(1, 0, 0.5, 1))"
   ]
  },
  {
   "cell_type": "code",
   "execution_count": 295,
   "id": "32b7106c",
   "metadata": {
    "scrolled": true
   },
   "outputs": [
    {
     "data": {
      "text/plain": [
       "<Axes: >"
      ]
     },
     "execution_count": 295,
     "metadata": {},
     "output_type": "execute_result"
    },
    {
     "data": {
      "image/png": "[encoded data removed]",
      "text/plain": [
       "<Figure size 640x480 with 1 Axes>"
      ]
     },
     "metadata": {},
     "output_type": "display_data"
    }
   ],
   "source": [
    "# Most in demand skills\n",
    "\n",
    "df_p = pd.DataFrame()\n",
    "df_p['% SQL']=df['SQL'].value_counts(normalize=True).mul(100).round(2)\n",
    "df_p['% Excel']=df['Excel'].value_counts(normalize=True).mul(100).round(2)\n",
    "df_p['% Python']=df['Python'].value_counts(normalize=True).mul(100).round(2)\n",
    "df_p['% R']=df['R'].value_counts(normalize=True).mul(100).round(2)\n",
    "df_p['% Tableau']=df['Tableau'].value_counts(normalize=True).mul(100).round(2)\n",
    "df_p['% PowerBI']=df['PowerBI'].value_counts(normalize=True).mul(100).round(2)\n",
    "df_p.stack().unstack(level=[0])\n",
    "\n",
    "df_p.loc[True].plot.barh()"
   ]
  },
  {
   "cell_type": "code",
   "execution_count": 336,
   "id": "7e85a17b",
   "metadata": {},
   "outputs": [
    {
     "data": {
      "text/html": [
       "<div>\n",
       "<style scoped>\n",
       "    .dataframe tbody tr th:only-of-type {\n",
       "        vertical-align: middle;\n",
       "    }\n",
       "\n",
       "    .dataframe tbody tr th {\n",
       "        vertical-align: top;\n",
       "    }\n",
       "\n",
       "    .dataframe thead th {\n",
       "        text-align: right;\n",
       "    }\n",
       "</style>\n",
       "<table border=\"1\" class=\"dataframe\">\n",
       "  <thead>\n",
       "    <tr style=\"text-align: right;\">\n",
       "      <th></th>\n",
       "      <th>% SQL</th>\n",
       "      <th>% Excel</th>\n",
       "      <th>% Python</th>\n",
       "      <th>% R</th>\n",
       "      <th>% Tableau</th>\n",
       "      <th>% PowerBI</th>\n",
       "    </tr>\n",
       "  </thead>\n",
       "  <tbody>\n",
       "    <tr>\n",
       "      <th>True</th>\n",
       "      <td>60.48</td>\n",
       "      <td>39.92</td>\n",
       "      <td>28.06</td>\n",
       "      <td>19.49</td>\n",
       "      <td>27.04</td>\n",
       "      <td>8.04</td>\n",
       "    </tr>\n",
       "    <tr>\n",
       "      <th>False</th>\n",
       "      <td>39.52</td>\n",
       "      <td>60.08</td>\n",
       "      <td>71.94</td>\n",
       "      <td>80.51</td>\n",
       "      <td>72.96</td>\n",
       "      <td>91.96</td>\n",
       "    </tr>\n",
       "  </tbody>\n",
       "</table>\n",
       "</div>"
      ],
      "text/plain": [
       "       % SQL  % Excel  % Python    % R  % Tableau  % PowerBI\n",
       "True   60.48    39.92     28.06  19.49      27.04       8.04\n",
       "False  39.52    60.08     71.94  80.51      72.96      91.96"
      ]
     },
     "execution_count": 336,
     "metadata": {},
     "output_type": "execute_result"
    }
   ],
   "source": [
    "df_p"
   ]
  },
  {
   "cell_type": "code",
   "execution_count": 326,
   "id": "2ec390a5",
   "metadata": {},
   "outputs": [],
   "source": [
    "# Seniority vs skill\n",
    "\n",
    "\n",
    "df_s=df.drop(['Job Title', 'Rating', 'Company Name', 'Location', 'Type of ownership', 'Founded','Industry', 'Max Size', \n",
    "              'Min Salary', 'Max Salary',\n",
    "       'Avg Salary', 'Junior level', 'Senior level', 'Lead level', 'Mid level', 'Since'], axis =1)"
   ]
  },
  {
   "cell_type": "code",
   "execution_count": 327,
   "id": "9d2653a1",
   "metadata": {},
   "outputs": [],
   "source": [
    "df_s.set_index('Level', inplace=True)"
   ]
  },
  {
   "cell_type": "code",
   "execution_count": 328,
   "id": "6f32e338",
   "metadata": {},
   "outputs": [
    {
     "data": {
      "text/html": [
       "<div>\n",
       "<style scoped>\n",
       "    .dataframe tbody tr th:only-of-type {\n",
       "        vertical-align: middle;\n",
       "    }\n",
       "\n",
       "    .dataframe tbody tr th {\n",
       "        vertical-align: top;\n",
       "    }\n",
       "\n",
       "    .dataframe thead th {\n",
       "        text-align: right;\n",
       "    }\n",
       "</style>\n",
       "<table border=\"1\" class=\"dataframe\">\n",
       "  <thead>\n",
       "    <tr style=\"text-align: right;\">\n",
       "      <th></th>\n",
       "      <th>Excel</th>\n",
       "      <th>SQL</th>\n",
       "      <th>Python</th>\n",
       "      <th>R</th>\n",
       "      <th>Tableau</th>\n",
       "      <th>PowerBI</th>\n",
       "    </tr>\n",
       "    <tr>\n",
       "      <th>Level</th>\n",
       "      <th></th>\n",
       "      <th></th>\n",
       "      <th></th>\n",
       "      <th></th>\n",
       "      <th></th>\n",
       "      <th></th>\n",
       "    </tr>\n",
       "  </thead>\n",
       "  <tbody>\n",
       "    <tr>\n",
       "      <th>Mid</th>\n",
       "      <td>False</td>\n",
       "      <td>True</td>\n",
       "      <td>True</td>\n",
       "      <td>True</td>\n",
       "      <td>False</td>\n",
       "      <td>False</td>\n",
       "    </tr>\n",
       "    <tr>\n",
       "      <th>Mid</th>\n",
       "      <td>True</td>\n",
       "      <td>True</td>\n",
       "      <td>False</td>\n",
       "      <td>True</td>\n",
       "      <td>False</td>\n",
       "      <td>False</td>\n",
       "    </tr>\n",
       "    <tr>\n",
       "      <th>Senior</th>\n",
       "      <td>False</td>\n",
       "      <td>True</td>\n",
       "      <td>True</td>\n",
       "      <td>True</td>\n",
       "      <td>True</td>\n",
       "      <td>False</td>\n",
       "    </tr>\n",
       "    <tr>\n",
       "      <th>Mid</th>\n",
       "      <td>False</td>\n",
       "      <td>True</td>\n",
       "      <td>False</td>\n",
       "      <td>False</td>\n",
       "      <td>True</td>\n",
       "      <td>False</td>\n",
       "    </tr>\n",
       "    <tr>\n",
       "      <th>Mid</th>\n",
       "      <td>True</td>\n",
       "      <td>True</td>\n",
       "      <td>True</td>\n",
       "      <td>False</td>\n",
       "      <td>False</td>\n",
       "      <td>False</td>\n",
       "    </tr>\n",
       "  </tbody>\n",
       "</table>\n",
       "</div>"
      ],
      "text/plain": [
       "        Excel   SQL  Python      R  Tableau  PowerBI\n",
       "Level                                               \n",
       "Mid     False  True    True   True    False    False\n",
       "Mid      True  True   False   True    False    False\n",
       "Senior  False  True    True   True     True    False\n",
       "Mid     False  True   False  False     True    False\n",
       "Mid      True  True    True  False    False    False"
      ]
     },
     "execution_count": 328,
     "metadata": {},
     "output_type": "execute_result"
    }
   ],
   "source": [
    "df_s.head()"
   ]
  },
  {
   "cell_type": "code",
   "execution_count": 329,
   "id": "20f0e79b",
   "metadata": {},
   "outputs": [
    {
     "data": {
      "text/plain": [
       "Level   Excel\n",
       "Junior  True       60\n",
       "        False      19\n",
       "Lead    False      53\n",
       "        True       15\n",
       "Mid     False    1010\n",
       "        True      687\n",
       "Senior  False     271\n",
       "        True      137\n",
       "Name: Excel, dtype: int64"
      ]
     },
     "execution_count": 329,
     "metadata": {},
     "output_type": "execute_result"
    }
   ],
   "source": [
    "df_s.groupby('Level')['Excel'].value_counts()"
   ]
  },
  {
   "cell_type": "code",
   "execution_count": 330,
   "id": "bee41e3d",
   "metadata": {},
   "outputs": [
    {
     "data": {
      "text/plain": [
       "Level   SQL  \n",
       "Junior  True      61\n",
       "        False     18\n",
       "Lead    True      37\n",
       "        False     31\n",
       "Mid     True     982\n",
       "        False    715\n",
       "Senior  True     282\n",
       "        False    126\n",
       "Name: SQL, dtype: int64"
      ]
     },
     "execution_count": 330,
     "metadata": {},
     "output_type": "execute_result"
    }
   ],
   "source": [
    "df_s.groupby('Level')['SQL'].value_counts()"
   ]
  },
  {
   "cell_type": "code",
   "execution_count": 332,
   "id": "15a654d3",
   "metadata": {},
   "outputs": [
    {
     "data": {
      "text/plain": [
       "Level   Python\n",
       "Junior  False       72\n",
       "        True         7\n",
       "Lead    False       48\n",
       "        True        20\n",
       "Mid     False     1260\n",
       "        True       437\n",
       "Senior  False      240\n",
       "        True       168\n",
       "Name: Python, dtype: int64"
      ]
     },
     "execution_count": 332,
     "metadata": {},
     "output_type": "execute_result"
    }
   ],
   "source": [
    "df.groupby('Level')['Python'].value_counts()"
   ]
  },
  {
   "cell_type": "code",
   "execution_count": 333,
   "id": "5dd0d48a",
   "metadata": {},
   "outputs": [
    {
     "data": {
      "text/plain": [
       "Level   R    \n",
       "Junior  False      72\n",
       "        True        7\n",
       "Lead    False      59\n",
       "        True        9\n",
       "Mid     False    1391\n",
       "        True      306\n",
       "Senior  False     291\n",
       "        True      117\n",
       "Name: R, dtype: int64"
      ]
     },
     "execution_count": 333,
     "metadata": {},
     "output_type": "execute_result"
    }
   ],
   "source": [
    "df.groupby('Level')['R'].value_counts()"
   ]
  },
  {
   "cell_type": "code",
   "execution_count": 334,
   "id": "451dc0c8",
   "metadata": {},
   "outputs": [
    {
     "data": {
      "text/plain": [
       "Level   Tableau\n",
       "Junior  False        69\n",
       "        True         10\n",
       "Lead    False        43\n",
       "        True         25\n",
       "Mid     False      1291\n",
       "        True        406\n",
       "Senior  False       240\n",
       "        True        168\n",
       "Name: Tableau, dtype: int64"
      ]
     },
     "execution_count": 334,
     "metadata": {},
     "output_type": "execute_result"
    }
   ],
   "source": [
    "df.groupby('Level')['Tableau'].value_counts()"
   ]
  },
  {
   "cell_type": "code",
   "execution_count": 335,
   "id": "138c25ea",
   "metadata": {},
   "outputs": [
    {
     "data": {
      "text/plain": [
       "Level   PowerBI\n",
       "Junior  False        76\n",
       "        True          3\n",
       "Lead    False        60\n",
       "        True          8\n",
       "Mid     False      1568\n",
       "        True        129\n",
       "Senior  False       367\n",
       "        True         41\n",
       "Name: PowerBI, dtype: int64"
      ]
     },
     "execution_count": 335,
     "metadata": {},
     "output_type": "execute_result"
    }
   ],
   "source": [
    "df.groupby('Level')['PowerBI'].value_counts()"
   ]
  },
  {
   "cell_type": "code",
   "execution_count": 348,
   "id": "ab8094c7",
   "metadata": {},
   "outputs": [
    {
     "ename": "ValueError",
     "evalue": "The truth value of a Series is ambiguous. Use a.empty, a.bool(), a.item(), a.any() or a.all().",
     "output_type": "error",
     "traceback": [
      "\u001b[1;31m---------------------------------------------------------------------------\u001b[0m",
      "\u001b[1;31mValueError\u001b[0m                                Traceback (most recent call last)",
      "Cell \u001b[1;32mIn[348], line 3\u001b[0m\n\u001b[0;32m      1\u001b[0m \u001b[38;5;28;01mfor\u001b[39;00m k,v \u001b[38;5;129;01min\u001b[39;00m df\u001b[38;5;241m.\u001b[39mitems():\n\u001b[0;32m      2\u001b[0m     a\u001b[38;5;241m=\u001b[39mdf\u001b[38;5;241m.\u001b[39mloc[df[\u001b[38;5;124m'\u001b[39m\u001b[38;5;124mLevel\u001b[39m\u001b[38;5;124m'\u001b[39m] \u001b[38;5;241m==\u001b[39m \u001b[38;5;124m'\u001b[39m\u001b[38;5;124mJunior\u001b[39m\u001b[38;5;124m'\u001b[39m]\n\u001b[1;32m----> 3\u001b[0m     \u001b[38;5;28;01mif\u001b[39;00m a\u001b[38;5;241m.\u001b[39many():\n\u001b[0;32m      4\u001b[0m         df[\u001b[38;5;124m'\u001b[39m\u001b[38;5;124mJunior\u001b[39m\u001b[38;5;124m'\u001b[39m]\u001b[38;5;241m=\u001b[39m\u001b[38;5;241m1\u001b[39m\n\u001b[0;32m      5\u001b[0m     \u001b[38;5;28;01melse\u001b[39;00m:\n",
      "File \u001b[1;32m~\\anaconda3\\lib\\site-packages\\pandas\\core\\generic.py:1527\u001b[0m, in \u001b[0;36mNDFrame.__nonzero__\u001b[1;34m(self)\u001b[0m\n\u001b[0;32m   1525\u001b[0m \u001b[38;5;129m@final\u001b[39m\n\u001b[0;32m   1526\u001b[0m \u001b[38;5;28;01mdef\u001b[39;00m \u001b[38;5;21m__nonzero__\u001b[39m(\u001b[38;5;28mself\u001b[39m) \u001b[38;5;241m-\u001b[39m\u001b[38;5;241m>\u001b[39m NoReturn:\n\u001b[1;32m-> 1527\u001b[0m     \u001b[38;5;28;01mraise\u001b[39;00m \u001b[38;5;167;01mValueError\u001b[39;00m(\n\u001b[0;32m   1528\u001b[0m         \u001b[38;5;124mf\u001b[39m\u001b[38;5;124m\"\u001b[39m\u001b[38;5;124mThe truth value of a \u001b[39m\u001b[38;5;132;01m{\u001b[39;00m\u001b[38;5;28mtype\u001b[39m(\u001b[38;5;28mself\u001b[39m)\u001b[38;5;241m.\u001b[39m\u001b[38;5;18m__name__\u001b[39m\u001b[38;5;132;01m}\u001b[39;00m\u001b[38;5;124m is ambiguous. \u001b[39m\u001b[38;5;124m\"\u001b[39m\n\u001b[0;32m   1529\u001b[0m         \u001b[38;5;124m\"\u001b[39m\u001b[38;5;124mUse a.empty, a.bool(), a.item(), a.any() or a.all().\u001b[39m\u001b[38;5;124m\"\u001b[39m\n\u001b[0;32m   1530\u001b[0m     )\n",
      "\u001b[1;31mValueError\u001b[0m: The truth value of a Series is ambiguous. Use a.empty, a.bool(), a.item(), a.any() or a.all()."
     ]
    }
   ],
   "source": [
    "for k,v in df.items():\n",
    "    a=df.loc[df['Level'] == 'Junior']\n",
    "    if a.any():\n",
    "        df['Junior']=1\n",
    "    else:\n",
    "        df['Junior']=0"
   ]
  },
  {
   "cell_type": "code",
   "execution_count": 344,
   "id": "70d968ee",
   "metadata": {},
   "outputs": [
    {
     "data": {
      "text/html": [
       "<div>\n",
       "<style scoped>\n",
       "    .dataframe tbody tr th:only-of-type {\n",
       "        vertical-align: middle;\n",
       "    }\n",
       "\n",
       "    .dataframe tbody tr th {\n",
       "        vertical-align: top;\n",
       "    }\n",
       "\n",
       "    .dataframe thead th {\n",
       "        text-align: right;\n",
       "    }\n",
       "</style>\n",
       "<table border=\"1\" class=\"dataframe\">\n",
       "  <thead>\n",
       "    <tr style=\"text-align: right;\">\n",
       "      <th></th>\n",
       "      <th>Job Title</th>\n",
       "      <th>Rating</th>\n",
       "      <th>Company Name</th>\n",
       "      <th>Location</th>\n",
       "      <th>Founded</th>\n",
       "      <th>Type of ownership</th>\n",
       "      <th>Industry</th>\n",
       "      <th>Max Size</th>\n",
       "      <th>Min Salary</th>\n",
       "      <th>Max Salary</th>\n",
       "      <th>...</th>\n",
       "      <th>Lead level</th>\n",
       "      <th>Mid level</th>\n",
       "      <th>Level</th>\n",
       "      <th>Excel</th>\n",
       "      <th>SQL</th>\n",
       "      <th>Python</th>\n",
       "      <th>R</th>\n",
       "      <th>Tableau</th>\n",
       "      <th>PowerBI</th>\n",
       "      <th>Since</th>\n",
       "    </tr>\n",
       "  </thead>\n",
       "  <tbody>\n",
       "    <tr>\n",
       "      <th>24</th>\n",
       "      <td>Entry Level / Junior Data Analyst</td>\n",
       "      <td>3.8</td>\n",
       "      <td>A</td>\n",
       "      <td>New York, NY</td>\n",
       "      <td>NaN</td>\n",
       "      <td>NaN</td>\n",
       "      <td>NaN</td>\n",
       "      <td>50</td>\n",
       "      <td>37.0</td>\n",
       "      <td>66.0</td>\n",
       "      <td>...</td>\n",
       "      <td>False</td>\n",
       "      <td>False</td>\n",
       "      <td>Junior</td>\n",
       "      <td>True</td>\n",
       "      <td>True</td>\n",
       "      <td>False</td>\n",
       "      <td>False</td>\n",
       "      <td>False</td>\n",
       "      <td>False</td>\n",
       "      <td>NaN</td>\n",
       "    </tr>\n",
       "    <tr>\n",
       "      <th>28</th>\n",
       "      <td>Data Analyst Entry Level</td>\n",
       "      <td>3.7</td>\n",
       "      <td>Endai</td>\n",
       "      <td>New York, NY</td>\n",
       "      <td>NaN</td>\n",
       "      <td>Company - Private</td>\n",
       "      <td>Advertising &amp; Marketing</td>\n",
       "      <td>50</td>\n",
       "      <td>37.0</td>\n",
       "      <td>66.0</td>\n",
       "      <td>...</td>\n",
       "      <td>False</td>\n",
       "      <td>False</td>\n",
       "      <td>Junior</td>\n",
       "      <td>False</td>\n",
       "      <td>False</td>\n",
       "      <td>False</td>\n",
       "      <td>False</td>\n",
       "      <td>False</td>\n",
       "      <td>False</td>\n",
       "      <td>NaN</td>\n",
       "    </tr>\n",
       "    <tr>\n",
       "      <th>64</th>\n",
       "      <td>Junior Data Analyst</td>\n",
       "      <td>4.1</td>\n",
       "      <td>Kforce</td>\n",
       "      <td>New York, NY</td>\n",
       "      <td>1966.0</td>\n",
       "      <td>Company - Public</td>\n",
       "      <td>Staffing &amp; Outsourcing</td>\n",
       "      <td>10000</td>\n",
       "      <td>51.0</td>\n",
       "      <td>88.0</td>\n",
       "      <td>...</td>\n",
       "      <td>False</td>\n",
       "      <td>False</td>\n",
       "      <td>Junior</td>\n",
       "      <td>False</td>\n",
       "      <td>True</td>\n",
       "      <td>True</td>\n",
       "      <td>True</td>\n",
       "      <td>True</td>\n",
       "      <td>False</td>\n",
       "      <td>58.0</td>\n",
       "    </tr>\n",
       "    <tr>\n",
       "      <th>71</th>\n",
       "      <td>Junior Data Analyst</td>\n",
       "      <td>NaN</td>\n",
       "      <td>impakt Advisors</td>\n",
       "      <td>New York, NY</td>\n",
       "      <td>NaN</td>\n",
       "      <td>Company - Private</td>\n",
       "      <td>Consulting</td>\n",
       "      <td>50</td>\n",
       "      <td>51.0</td>\n",
       "      <td>88.0</td>\n",
       "      <td>...</td>\n",
       "      <td>False</td>\n",
       "      <td>False</td>\n",
       "      <td>Junior</td>\n",
       "      <td>True</td>\n",
       "      <td>True</td>\n",
       "      <td>False</td>\n",
       "      <td>False</td>\n",
       "      <td>True</td>\n",
       "      <td>False</td>\n",
       "      <td>NaN</td>\n",
       "    </tr>\n",
       "    <tr>\n",
       "      <th>124</th>\n",
       "      <td>Junior Data Analyst</td>\n",
       "      <td>5.0</td>\n",
       "      <td>Staffigo Technical Services, LLC</td>\n",
       "      <td>New York, NY</td>\n",
       "      <td>2008.0</td>\n",
       "      <td>Company - Private</td>\n",
       "      <td>IT Services</td>\n",
       "      <td>200</td>\n",
       "      <td>59.0</td>\n",
       "      <td>85.0</td>\n",
       "      <td>...</td>\n",
       "      <td>False</td>\n",
       "      <td>False</td>\n",
       "      <td>Junior</td>\n",
       "      <td>True</td>\n",
       "      <td>True</td>\n",
       "      <td>False</td>\n",
       "      <td>False</td>\n",
       "      <td>False</td>\n",
       "      <td>False</td>\n",
       "      <td>16.0</td>\n",
       "    </tr>\n",
       "    <tr>\n",
       "      <th>...</th>\n",
       "      <td>...</td>\n",
       "      <td>...</td>\n",
       "      <td>...</td>\n",
       "      <td>...</td>\n",
       "      <td>...</td>\n",
       "      <td>...</td>\n",
       "      <td>...</td>\n",
       "      <td>...</td>\n",
       "      <td>...</td>\n",
       "      <td>...</td>\n",
       "      <td>...</td>\n",
       "      <td>...</td>\n",
       "      <td>...</td>\n",
       "      <td>...</td>\n",
       "      <td>...</td>\n",
       "      <td>...</td>\n",
       "      <td>...</td>\n",
       "      <td>...</td>\n",
       "      <td>...</td>\n",
       "      <td>...</td>\n",
       "      <td>...</td>\n",
       "    </tr>\n",
       "    <tr>\n",
       "      <th>2151</th>\n",
       "      <td>Junior Data Analyst</td>\n",
       "      <td>5.0</td>\n",
       "      <td>Staffigo Technical Services, LLC</td>\n",
       "      <td>Athens, GA</td>\n",
       "      <td>2008.0</td>\n",
       "      <td>Company - Private</td>\n",
       "      <td>IT Services</td>\n",
       "      <td>200</td>\n",
       "      <td>32.0</td>\n",
       "      <td>56.0</td>\n",
       "      <td>...</td>\n",
       "      <td>False</td>\n",
       "      <td>False</td>\n",
       "      <td>Junior</td>\n",
       "      <td>True</td>\n",
       "      <td>True</td>\n",
       "      <td>False</td>\n",
       "      <td>False</td>\n",
       "      <td>False</td>\n",
       "      <td>False</td>\n",
       "      <td>16.0</td>\n",
       "    </tr>\n",
       "    <tr>\n",
       "      <th>2153</th>\n",
       "      <td>Junior Data Analyst</td>\n",
       "      <td>5.0</td>\n",
       "      <td>Staffigo Technical Services, LLC</td>\n",
       "      <td>Athens, GA</td>\n",
       "      <td>2008.0</td>\n",
       "      <td>Company - Private</td>\n",
       "      <td>IT Services</td>\n",
       "      <td>200</td>\n",
       "      <td>32.0</td>\n",
       "      <td>56.0</td>\n",
       "      <td>...</td>\n",
       "      <td>False</td>\n",
       "      <td>False</td>\n",
       "      <td>Junior</td>\n",
       "      <td>True</td>\n",
       "      <td>True</td>\n",
       "      <td>False</td>\n",
       "      <td>False</td>\n",
       "      <td>False</td>\n",
       "      <td>False</td>\n",
       "      <td>16.0</td>\n",
       "    </tr>\n",
       "    <tr>\n",
       "      <th>2173</th>\n",
       "      <td>Junior Data Analyst</td>\n",
       "      <td>5.0</td>\n",
       "      <td>Staffigo Technical Services, LLC</td>\n",
       "      <td>Denver, CO</td>\n",
       "      <td>2008.0</td>\n",
       "      <td>Company - Private</td>\n",
       "      <td>IT Services</td>\n",
       "      <td>200</td>\n",
       "      <td>57.0</td>\n",
       "      <td>67.0</td>\n",
       "      <td>...</td>\n",
       "      <td>False</td>\n",
       "      <td>False</td>\n",
       "      <td>Junior</td>\n",
       "      <td>True</td>\n",
       "      <td>True</td>\n",
       "      <td>False</td>\n",
       "      <td>False</td>\n",
       "      <td>False</td>\n",
       "      <td>False</td>\n",
       "      <td>16.0</td>\n",
       "    </tr>\n",
       "    <tr>\n",
       "      <th>2221</th>\n",
       "      <td>Junior Data Analyst</td>\n",
       "      <td>5.0</td>\n",
       "      <td>Staffigo Technical Services, LLC</td>\n",
       "      <td>Denver, CO</td>\n",
       "      <td>2008.0</td>\n",
       "      <td>Company - Private</td>\n",
       "      <td>IT Services</td>\n",
       "      <td>200</td>\n",
       "      <td>57.0</td>\n",
       "      <td>100.0</td>\n",
       "      <td>...</td>\n",
       "      <td>False</td>\n",
       "      <td>False</td>\n",
       "      <td>Junior</td>\n",
       "      <td>True</td>\n",
       "      <td>True</td>\n",
       "      <td>False</td>\n",
       "      <td>False</td>\n",
       "      <td>False</td>\n",
       "      <td>False</td>\n",
       "      <td>16.0</td>\n",
       "    </tr>\n",
       "    <tr>\n",
       "      <th>2226</th>\n",
       "      <td>Data Analyst - Junior</td>\n",
       "      <td>5.0</td>\n",
       "      <td>Staffigo Technical Services, LLC</td>\n",
       "      <td>Denver, CO</td>\n",
       "      <td>2008.0</td>\n",
       "      <td>Company - Private</td>\n",
       "      <td>IT Services</td>\n",
       "      <td>200</td>\n",
       "      <td>57.0</td>\n",
       "      <td>100.0</td>\n",
       "      <td>...</td>\n",
       "      <td>False</td>\n",
       "      <td>False</td>\n",
       "      <td>Junior</td>\n",
       "      <td>True</td>\n",
       "      <td>True</td>\n",
       "      <td>False</td>\n",
       "      <td>False</td>\n",
       "      <td>False</td>\n",
       "      <td>False</td>\n",
       "      <td>16.0</td>\n",
       "    </tr>\n",
       "  </tbody>\n",
       "</table>\n",
       "<p>79 rows × 23 columns</p>\n",
       "</div>"
      ],
      "text/plain": [
       "                              Job Title  Rating  \\\n",
       "24    Entry Level / Junior Data Analyst     3.8   \n",
       "28             Data Analyst Entry Level     3.7   \n",
       "64                  Junior Data Analyst     4.1   \n",
       "71                  Junior Data Analyst     NaN   \n",
       "124                 Junior Data Analyst     5.0   \n",
       "...                                 ...     ...   \n",
       "2151                Junior Data Analyst     5.0   \n",
       "2153                Junior Data Analyst     5.0   \n",
       "2173                Junior Data Analyst     5.0   \n",
       "2221                Junior Data Analyst     5.0   \n",
       "2226              Data Analyst - Junior     5.0   \n",
       "\n",
       "                          Company Name      Location  Founded  \\\n",
       "24                                   A  New York, NY      NaN   \n",
       "28                               Endai  New York, NY      NaN   \n",
       "64                              Kforce  New York, NY   1966.0   \n",
       "71                     impakt Advisors  New York, NY      NaN   \n",
       "124   Staffigo Technical Services, LLC  New York, NY   2008.0   \n",
       "...                                ...           ...      ...   \n",
       "2151  Staffigo Technical Services, LLC    Athens, GA   2008.0   \n",
       "2153  Staffigo Technical Services, LLC    Athens, GA   2008.0   \n",
       "2173  Staffigo Technical Services, LLC    Denver, CO   2008.0   \n",
       "2221  Staffigo Technical Services, LLC    Denver, CO   2008.0   \n",
       "2226  Staffigo Technical Services, LLC    Denver, CO   2008.0   \n",
       "\n",
       "      Type of ownership                 Industry Max Size  Min Salary  \\\n",
       "24                  NaN                      NaN       50        37.0   \n",
       "28    Company - Private  Advertising & Marketing       50        37.0   \n",
       "64     Company - Public   Staffing & Outsourcing    10000        51.0   \n",
       "71    Company - Private               Consulting       50        51.0   \n",
       "124   Company - Private              IT Services      200        59.0   \n",
       "...                 ...                      ...      ...         ...   \n",
       "2151  Company - Private              IT Services      200        32.0   \n",
       "2153  Company - Private              IT Services      200        32.0   \n",
       "2173  Company - Private              IT Services      200        57.0   \n",
       "2221  Company - Private              IT Services      200        57.0   \n",
       "2226  Company - Private              IT Services      200        57.0   \n",
       "\n",
       "      Max Salary  ...  Lead level  Mid level   Level  Excel    SQL Python  \\\n",
       "24          66.0  ...       False      False  Junior   True   True  False   \n",
       "28          66.0  ...       False      False  Junior  False  False  False   \n",
       "64          88.0  ...       False      False  Junior  False   True   True   \n",
       "71          88.0  ...       False      False  Junior   True   True  False   \n",
       "124         85.0  ...       False      False  Junior   True   True  False   \n",
       "...          ...  ...         ...        ...     ...    ...    ...    ...   \n",
       "2151        56.0  ...       False      False  Junior   True   True  False   \n",
       "2153        56.0  ...       False      False  Junior   True   True  False   \n",
       "2173        67.0  ...       False      False  Junior   True   True  False   \n",
       "2221       100.0  ...       False      False  Junior   True   True  False   \n",
       "2226       100.0  ...       False      False  Junior   True   True  False   \n",
       "\n",
       "          R  Tableau  PowerBI  Since  \n",
       "24    False    False    False    NaN  \n",
       "28    False    False    False    NaN  \n",
       "64     True     True    False   58.0  \n",
       "71    False     True    False    NaN  \n",
       "124   False    False    False   16.0  \n",
       "...     ...      ...      ...    ...  \n",
       "2151  False    False    False   16.0  \n",
       "2153  False    False    False   16.0  \n",
       "2173  False    False    False   16.0  \n",
       "2221  False    False    False   16.0  \n",
       "2226  False    False    False   16.0  \n",
       "\n",
       "[79 rows x 23 columns]"
      ]
     },
     "execution_count": 344,
     "metadata": {},
     "output_type": "execute_result"
    }
   ],
   "source": [
    "df.loc[df['Level'] == 'Junior']"
   ]
  },
  {
   "cell_type": "code",
   "execution_count": null,
   "id": "3b765fe3",
   "metadata": {},
   "outputs": [],
   "source": []
  }
 ],
 "metadata": {
  "kernelspec": {
   "display_name": "Python 3 (ipykernel)",
   "language": "python",
   "name": "python3"
  },
  "language_info": {
   "codemirror_mode": {
    "name": "ipython",
    "version": 3
   },
   "file_extension": ".py",
   "mimetype": "text/x-python",
   "name": "python",
   "nbconvert_exporter": "python",
   "pygments_lexer": "ipython3",
   "version": "3.10.9"
  }
 },
 "nbformat": 4,
 "nbformat_minor": 5
}
